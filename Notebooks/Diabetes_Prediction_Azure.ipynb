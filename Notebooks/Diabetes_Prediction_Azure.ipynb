{
 "cells": [
  {
   "cell_type": "markdown",
   "id": "6b3708d9-4a16-48c5-8b5d-ca96e21f9775",
   "metadata": {},
   "source": [
    "# Diabetese Prediction "
   ]
  },
  {
   "cell_type": "code",
   "execution_count": 1,
   "id": "1de12ee0-5877-4d10-be77-ca6ed1a60db7",
   "metadata": {},
   "outputs": [],
   "source": [
    "import pandas as pd \n",
    "import numpy as np \n",
    "from sklearn.preprocessing import StandardScaler\n",
    "from sklearn.linear_model import LogisticRegression\n",
    "from sklearn.model_selection import train_test_split\n",
    "from sklearn.metrics import confusion_matrix, accuracy_score,classification_report\n",
    "import matplotlib.pyplot as plt\n",
    "import seaborn as sns"
   ]
  },
  {
   "cell_type": "code",
   "execution_count": 2,
   "id": "b2037c60-1f86-43cc-b519-e96d7736bf11",
   "metadata": {},
   "outputs": [],
   "source": [
    "# Read the data file \n",
    "data = pd.read_csv('diabetes.csv')"
   ]
  },
  {
   "cell_type": "code",
   "execution_count": 3,
   "id": "1e170641-b236-43c5-9cab-1785ed09b89f",
   "metadata": {},
   "outputs": [
    {
     "data": {
      "text/html": [
       "<div>\n",
       "<style scoped>\n",
       "    .dataframe tbody tr th:only-of-type {\n",
       "        vertical-align: middle;\n",
       "    }\n",
       "\n",
       "    .dataframe tbody tr th {\n",
       "        vertical-align: top;\n",
       "    }\n",
       "\n",
       "    .dataframe thead th {\n",
       "        text-align: right;\n",
       "    }\n",
       "</style>\n",
       "<table border=\"1\" class=\"dataframe\">\n",
       "  <thead>\n",
       "    <tr style=\"text-align: right;\">\n",
       "      <th></th>\n",
       "      <th>Pregnancies</th>\n",
       "      <th>Glucose</th>\n",
       "      <th>BloodPressure</th>\n",
       "      <th>SkinThickness</th>\n",
       "      <th>Insulin</th>\n",
       "      <th>BMI</th>\n",
       "      <th>DiabetesPedigreeFunction</th>\n",
       "      <th>Age</th>\n",
       "      <th>Outcome</th>\n",
       "    </tr>\n",
       "  </thead>\n",
       "  <tbody>\n",
       "    <tr>\n",
       "      <th>0</th>\n",
       "      <td>6</td>\n",
       "      <td>148</td>\n",
       "      <td>72</td>\n",
       "      <td>35</td>\n",
       "      <td>0</td>\n",
       "      <td>33.6</td>\n",
       "      <td>0.627</td>\n",
       "      <td>50</td>\n",
       "      <td>1</td>\n",
       "    </tr>\n",
       "    <tr>\n",
       "      <th>1</th>\n",
       "      <td>1</td>\n",
       "      <td>85</td>\n",
       "      <td>66</td>\n",
       "      <td>29</td>\n",
       "      <td>0</td>\n",
       "      <td>26.6</td>\n",
       "      <td>0.351</td>\n",
       "      <td>31</td>\n",
       "      <td>0</td>\n",
       "    </tr>\n",
       "    <tr>\n",
       "      <th>2</th>\n",
       "      <td>8</td>\n",
       "      <td>183</td>\n",
       "      <td>64</td>\n",
       "      <td>0</td>\n",
       "      <td>0</td>\n",
       "      <td>23.3</td>\n",
       "      <td>0.672</td>\n",
       "      <td>32</td>\n",
       "      <td>1</td>\n",
       "    </tr>\n",
       "    <tr>\n",
       "      <th>3</th>\n",
       "      <td>1</td>\n",
       "      <td>89</td>\n",
       "      <td>66</td>\n",
       "      <td>23</td>\n",
       "      <td>94</td>\n",
       "      <td>28.1</td>\n",
       "      <td>0.167</td>\n",
       "      <td>21</td>\n",
       "      <td>0</td>\n",
       "    </tr>\n",
       "    <tr>\n",
       "      <th>4</th>\n",
       "      <td>0</td>\n",
       "      <td>137</td>\n",
       "      <td>40</td>\n",
       "      <td>35</td>\n",
       "      <td>168</td>\n",
       "      <td>43.1</td>\n",
       "      <td>2.288</td>\n",
       "      <td>33</td>\n",
       "      <td>1</td>\n",
       "    </tr>\n",
       "  </tbody>\n",
       "</table>\n",
       "</div>"
      ],
      "text/plain": [
       "   Pregnancies  Glucose  BloodPressure  SkinThickness  Insulin   BMI  \\\n",
       "0            6      148             72             35        0  33.6   \n",
       "1            1       85             66             29        0  26.6   \n",
       "2            8      183             64              0        0  23.3   \n",
       "3            1       89             66             23       94  28.1   \n",
       "4            0      137             40             35      168  43.1   \n",
       "\n",
       "   DiabetesPedigreeFunction  Age  Outcome  \n",
       "0                     0.627   50        1  \n",
       "1                     0.351   31        0  \n",
       "2                     0.672   32        1  \n",
       "3                     0.167   21        0  \n",
       "4                     2.288   33        1  "
      ]
     },
     "execution_count": 3,
     "metadata": {},
     "output_type": "execute_result"
    }
   ],
   "source": [
    "data.head()"
   ]
  },
  {
   "cell_type": "code",
   "execution_count": 4,
   "id": "65f60471-2949-4087-85dc-c204d131d91d",
   "metadata": {},
   "outputs": [
    {
     "name": "stdout",
     "output_type": "stream",
     "text": [
      "<class 'pandas.core.frame.DataFrame'>\n",
      "RangeIndex: 768 entries, 0 to 767\n",
      "Data columns (total 9 columns):\n",
      " #   Column                    Non-Null Count  Dtype  \n",
      "---  ------                    --------------  -----  \n",
      " 0   Pregnancies               768 non-null    int64  \n",
      " 1   Glucose                   768 non-null    int64  \n",
      " 2   BloodPressure             768 non-null    int64  \n",
      " 3   SkinThickness             768 non-null    int64  \n",
      " 4   Insulin                   768 non-null    int64  \n",
      " 5   BMI                       768 non-null    float64\n",
      " 6   DiabetesPedigreeFunction  768 non-null    float64\n",
      " 7   Age                       768 non-null    int64  \n",
      " 8   Outcome                   768 non-null    int64  \n",
      "dtypes: float64(2), int64(7)\n",
      "memory usage: 54.1 KB\n"
     ]
    }
   ],
   "source": [
    "data.info()"
   ]
  },
  {
   "cell_type": "code",
   "execution_count": 5,
   "id": "ac8ae1df-6df6-434e-9c12-3cc82b309f2b",
   "metadata": {},
   "outputs": [
    {
     "data": {
      "text/plain": [
       "Pregnancies                 0\n",
       "Glucose                     0\n",
       "BloodPressure               0\n",
       "SkinThickness               0\n",
       "Insulin                     0\n",
       "BMI                         0\n",
       "DiabetesPedigreeFunction    0\n",
       "Age                         0\n",
       "Outcome                     0\n",
       "dtype: int64"
      ]
     },
     "execution_count": 5,
     "metadata": {},
     "output_type": "execute_result"
    }
   ],
   "source": [
    "data.isnull().sum()"
   ]
  },
  {
   "cell_type": "code",
   "execution_count": 6,
   "id": "379e251b-4da4-4c1a-92bd-e98c18747548",
   "metadata": {},
   "outputs": [
    {
     "data": {
      "text/plain": [
       "(768, 9)"
      ]
     },
     "execution_count": 6,
     "metadata": {},
     "output_type": "execute_result"
    }
   ],
   "source": [
    "data.shape"
   ]
  },
  {
   "cell_type": "code",
   "execution_count": 7,
   "id": "0a4d09ca-60cf-4875-ba9f-a1d0a7451810",
   "metadata": {},
   "outputs": [
    {
     "data": {
      "text/plain": [
       "Index(['Pregnancies', 'Glucose', 'BloodPressure', 'SkinThickness', 'Insulin',\n",
       "       'BMI', 'DiabetesPedigreeFunction', 'Age', 'Outcome'],\n",
       "      dtype='object')"
      ]
     },
     "execution_count": 7,
     "metadata": {},
     "output_type": "execute_result"
    }
   ],
   "source": [
    "data.columns"
   ]
  },
  {
   "cell_type": "code",
   "execution_count": 8,
   "id": "841ff771-dccd-4394-b5d9-55ea4a07bd22",
   "metadata": {},
   "outputs": [
    {
     "data": {
      "text/html": [
       "<div>\n",
       "<style scoped>\n",
       "    .dataframe tbody tr th:only-of-type {\n",
       "        vertical-align: middle;\n",
       "    }\n",
       "\n",
       "    .dataframe tbody tr th {\n",
       "        vertical-align: top;\n",
       "    }\n",
       "\n",
       "    .dataframe thead th {\n",
       "        text-align: right;\n",
       "    }\n",
       "</style>\n",
       "<table border=\"1\" class=\"dataframe\">\n",
       "  <thead>\n",
       "    <tr style=\"text-align: right;\">\n",
       "      <th></th>\n",
       "      <th>Pregnancies</th>\n",
       "      <th>Glucose</th>\n",
       "      <th>BloodPressure</th>\n",
       "      <th>SkinThickness</th>\n",
       "      <th>Insulin</th>\n",
       "      <th>BMI</th>\n",
       "      <th>DiabetesPedigreeFunction</th>\n",
       "      <th>Age</th>\n",
       "      <th>Outcome</th>\n",
       "    </tr>\n",
       "  </thead>\n",
       "  <tbody>\n",
       "    <tr>\n",
       "      <th>count</th>\n",
       "      <td>768.000000</td>\n",
       "      <td>768.000000</td>\n",
       "      <td>768.000000</td>\n",
       "      <td>768.000000</td>\n",
       "      <td>768.000000</td>\n",
       "      <td>768.000000</td>\n",
       "      <td>768.000000</td>\n",
       "      <td>768.000000</td>\n",
       "      <td>768.000000</td>\n",
       "    </tr>\n",
       "    <tr>\n",
       "      <th>mean</th>\n",
       "      <td>3.845052</td>\n",
       "      <td>120.894531</td>\n",
       "      <td>69.105469</td>\n",
       "      <td>20.536458</td>\n",
       "      <td>79.799479</td>\n",
       "      <td>31.992578</td>\n",
       "      <td>0.471876</td>\n",
       "      <td>33.240885</td>\n",
       "      <td>0.348958</td>\n",
       "    </tr>\n",
       "    <tr>\n",
       "      <th>std</th>\n",
       "      <td>3.369578</td>\n",
       "      <td>31.972618</td>\n",
       "      <td>19.355807</td>\n",
       "      <td>15.952218</td>\n",
       "      <td>115.244002</td>\n",
       "      <td>7.884160</td>\n",
       "      <td>0.331329</td>\n",
       "      <td>11.760232</td>\n",
       "      <td>0.476951</td>\n",
       "    </tr>\n",
       "    <tr>\n",
       "      <th>min</th>\n",
       "      <td>0.000000</td>\n",
       "      <td>0.000000</td>\n",
       "      <td>0.000000</td>\n",
       "      <td>0.000000</td>\n",
       "      <td>0.000000</td>\n",
       "      <td>0.000000</td>\n",
       "      <td>0.078000</td>\n",
       "      <td>21.000000</td>\n",
       "      <td>0.000000</td>\n",
       "    </tr>\n",
       "    <tr>\n",
       "      <th>25%</th>\n",
       "      <td>1.000000</td>\n",
       "      <td>99.000000</td>\n",
       "      <td>62.000000</td>\n",
       "      <td>0.000000</td>\n",
       "      <td>0.000000</td>\n",
       "      <td>27.300000</td>\n",
       "      <td>0.243750</td>\n",
       "      <td>24.000000</td>\n",
       "      <td>0.000000</td>\n",
       "    </tr>\n",
       "    <tr>\n",
       "      <th>50%</th>\n",
       "      <td>3.000000</td>\n",
       "      <td>117.000000</td>\n",
       "      <td>72.000000</td>\n",
       "      <td>23.000000</td>\n",
       "      <td>30.500000</td>\n",
       "      <td>32.000000</td>\n",
       "      <td>0.372500</td>\n",
       "      <td>29.000000</td>\n",
       "      <td>0.000000</td>\n",
       "    </tr>\n",
       "    <tr>\n",
       "      <th>75%</th>\n",
       "      <td>6.000000</td>\n",
       "      <td>140.250000</td>\n",
       "      <td>80.000000</td>\n",
       "      <td>32.000000</td>\n",
       "      <td>127.250000</td>\n",
       "      <td>36.600000</td>\n",
       "      <td>0.626250</td>\n",
       "      <td>41.000000</td>\n",
       "      <td>1.000000</td>\n",
       "    </tr>\n",
       "    <tr>\n",
       "      <th>max</th>\n",
       "      <td>17.000000</td>\n",
       "      <td>199.000000</td>\n",
       "      <td>122.000000</td>\n",
       "      <td>99.000000</td>\n",
       "      <td>846.000000</td>\n",
       "      <td>67.100000</td>\n",
       "      <td>2.420000</td>\n",
       "      <td>81.000000</td>\n",
       "      <td>1.000000</td>\n",
       "    </tr>\n",
       "  </tbody>\n",
       "</table>\n",
       "</div>"
      ],
      "text/plain": [
       "       Pregnancies     Glucose  BloodPressure  SkinThickness     Insulin  \\\n",
       "count   768.000000  768.000000     768.000000     768.000000  768.000000   \n",
       "mean      3.845052  120.894531      69.105469      20.536458   79.799479   \n",
       "std       3.369578   31.972618      19.355807      15.952218  115.244002   \n",
       "min       0.000000    0.000000       0.000000       0.000000    0.000000   \n",
       "25%       1.000000   99.000000      62.000000       0.000000    0.000000   \n",
       "50%       3.000000  117.000000      72.000000      23.000000   30.500000   \n",
       "75%       6.000000  140.250000      80.000000      32.000000  127.250000   \n",
       "max      17.000000  199.000000     122.000000      99.000000  846.000000   \n",
       "\n",
       "              BMI  DiabetesPedigreeFunction         Age     Outcome  \n",
       "count  768.000000                768.000000  768.000000  768.000000  \n",
       "mean    31.992578                  0.471876   33.240885    0.348958  \n",
       "std      7.884160                  0.331329   11.760232    0.476951  \n",
       "min      0.000000                  0.078000   21.000000    0.000000  \n",
       "25%     27.300000                  0.243750   24.000000    0.000000  \n",
       "50%     32.000000                  0.372500   29.000000    0.000000  \n",
       "75%     36.600000                  0.626250   41.000000    1.000000  \n",
       "max     67.100000                  2.420000   81.000000    1.000000  "
      ]
     },
     "execution_count": 8,
     "metadata": {},
     "output_type": "execute_result"
    }
   ],
   "source": [
    "data.describe()"
   ]
  },
  {
   "cell_type": "code",
   "execution_count": 9,
   "id": "c6aeb175-80cd-4745-a122-812324460b3b",
   "metadata": {},
   "outputs": [],
   "source": [
    "## There is some misconception as Glucose, BP, SkinThickness , Insulin, BMI cant be zero ,\n",
    "## Replace these value with the mean of that column\n",
    "data['BMI'] = data['BMI'].replace(0,data['BMI'].mean())\n",
    "data['Glucose'] = data['Glucose'].replace(0,data['Glucose'].mean())\n",
    "data['BloodPressure'] = data['BloodPressure'].replace(0,data['BloodPressure'].mean())\n",
    "data['SkinThickness'] = data['SkinThickness'].replace(0,data['SkinThickness'].mean())\n",
    "data['Insulin'] = data['Insulin'].replace(0,data['Insulin'].median())"
   ]
  },
  {
   "cell_type": "code",
   "execution_count": 10,
   "id": "81db45b3-401e-444c-b47d-85f9f3f4fa74",
   "metadata": {},
   "outputs": [
    {
     "data": {
      "text/plain": [
       "<AxesSubplot:>"
      ]
     },
     "execution_count": 10,
     "metadata": {},
     "output_type": "execute_result"
    },
    {
     "data": {
      "image/png": "[encoded data removed]",
      "text/plain": [
       "<Figure size 1500x1000 with 1 Axes>"
      ]
     },
     "metadata": {},
     "output_type": "display_data"
    }
   ],
   "source": [
    "## Now check for the outlier in the data\n",
    "fig , ax = plt.subplots(figsize=(15,10))\n",
    "sns.boxplot(data= data, width=0.5,ax=ax,fliersize=3)"
   ]
  },
  {
   "cell_type": "code",
   "execution_count": 39,
   "id": "f127a68c-a702-491d-ab4c-80275a14be90",
   "metadata": {},
   "outputs": [],
   "source": [
    "## Segregate the dependent and independent feature\n",
    "X = data.drop(columns='Outcome')\n",
    "y = data['Outcome']"
   ]
  },
  {
   "cell_type": "code",
   "execution_count": 40,
   "id": "842d4aee-2bcb-43fa-991a-3563a7592f2f",
   "metadata": {},
   "outputs": [
    {
     "data": {
      "text/plain": [
       "((576, 8), (192, 8))"
      ]
     },
     "execution_count": 40,
     "metadata": {},
     "output_type": "execute_result"
    }
   ],
   "source": [
    "# Seperate the data set into train and test split\n",
    "X_train, X_test, y_train,y_test = train_test_split(X,y,test_size=0.25,random_state=0)\n",
    "X_train.shape , X_test.shape"
   ]
  },
  {
   "cell_type": "code",
   "execution_count": 42,
   "id": "87b52852-1671-4f5c-a5fa-f3ea673edeff",
   "metadata": {},
   "outputs": [
    {
     "name": "stdout",
     "output_type": "stream",
     "text": [
      "<class 'pandas.core.frame.DataFrame'>\n",
      "RangeIndex: 768 entries, 0 to 767\n",
      "Data columns (total 8 columns):\n",
      " #   Column                    Non-Null Count  Dtype  \n",
      "---  ------                    --------------  -----  \n",
      " 0   Pregnancies               768 non-null    int64  \n",
      " 1   Glucose                   768 non-null    float64\n",
      " 2   BloodPressure             768 non-null    float64\n",
      " 3   SkinThickness             768 non-null    float64\n",
      " 4   Insulin                   768 non-null    float64\n",
      " 5   BMI                       768 non-null    float64\n",
      " 6   DiabetesPedigreeFunction  768 non-null    float64\n",
      " 7   Age                       768 non-null    int64  \n",
      "dtypes: float64(6), int64(2)\n",
      "memory usage: 48.1 KB\n"
     ]
    }
   ],
   "source": [
    "X.info()"
   ]
  },
  {
   "cell_type": "code",
   "execution_count": 45,
   "id": "e204e149-57ef-4e25-bd97-a7a87e47dcca",
   "metadata": {},
   "outputs": [],
   "source": [
    "import pickle"
   ]
  },
  {
   "cell_type": "code",
   "execution_count": 46,
   "id": "a32fdb28-edb7-4a82-bfa5-68f3fe06464e",
   "metadata": {},
   "outputs": [],
   "source": [
    "def scalar_standard(X_train,X_test):\n",
    "    # Standard Scaling i.e standardization\n",
    "    # Scaling the data\n",
    "    scalar = StandardScaler()\n",
    "    X_train_scaled = scalar.fit_transform(X_train)\n",
    "    X_test_scaled = scalar.transform(X_test)\n",
    "    \n",
    "    # Saving the model \n",
    "    file = open(\"scalar.pkl\",'wb')\n",
    "    pickle.dump(scalar,file)\n",
    "    file.close()\n",
    "    \n",
    "    return X_train_scaled,X_test_scaled"
   ]
  },
  {
   "cell_type": "code",
   "execution_count": 47,
   "id": "e1325d36-24b0-4a17-85f9-66e9b74ac701",
   "metadata": {},
   "outputs": [],
   "source": [
    "X_train_scaled, X_test_scaled = scalar_standard(X_train,X_test)"
   ]
  },
  {
   "cell_type": "code",
   "execution_count": 48,
   "id": "c2b03e26-bf72-47ae-a29f-ab4b02b1c0d4",
   "metadata": {},
   "outputs": [
    {
     "data": {
      "text/plain": [
       "array([[ 1.50755225, -1.09947934, -0.89942504, ..., -1.45561965,\n",
       "        -0.98325882, -0.04863985],\n",
       "       [-0.82986389, -0.1331471 , -1.23618124, ...,  0.09272955,\n",
       "        -0.62493647, -0.88246592],\n",
       "       [-1.12204091, -1.03283573,  0.61597784, ..., -0.03629955,\n",
       "         0.39884168, -0.5489355 ],\n",
       "       ...,\n",
       "       [ 0.04666716, -0.93287033, -0.64685789, ..., -1.14021518,\n",
       "        -0.96519215, -1.04923114],\n",
       "       [ 2.09190629, -1.23276654,  0.11084355, ..., -0.36604058,\n",
       "        -0.5075031 ,  0.11812536],\n",
       "       [ 0.33884418,  0.46664532,  0.78435594, ..., -0.09470985,\n",
       "         0.51627505,  2.953134  ]])"
      ]
     },
     "execution_count": 48,
     "metadata": {},
     "output_type": "execute_result"
    }
   ],
   "source": [
    "X_train_scaled"
   ]
  },
  {
   "cell_type": "code",
   "execution_count": 50,
   "id": "f12d63bd-befb-43d9-9457-7ff5ca77958c",
   "metadata": {},
   "outputs": [
    {
     "name": "stdout",
     "output_type": "stream",
     "text": [
      "<class 'pandas.core.frame.DataFrame'>\n",
      "Int64Index: 192 entries, 661 to 463\n",
      "Data columns (total 8 columns):\n",
      " #   Column                    Non-Null Count  Dtype  \n",
      "---  ------                    --------------  -----  \n",
      " 0   Pregnancies               192 non-null    int64  \n",
      " 1   Glucose                   192 non-null    float64\n",
      " 2   BloodPressure             192 non-null    float64\n",
      " 3   SkinThickness             192 non-null    float64\n",
      " 4   Insulin                   192 non-null    float64\n",
      " 5   BMI                       192 non-null    float64\n",
      " 6   DiabetesPedigreeFunction  192 non-null    float64\n",
      " 7   Age                       192 non-null    int64  \n",
      "dtypes: float64(6), int64(2)\n",
      "memory usage: 13.5 KB\n"
     ]
    }
   ],
   "source": [
    "X_test.info()"
   ]
  },
  {
   "cell_type": "markdown",
   "id": "2ca85f96-4874-4f4a-a6b6-ac9180f7be96",
   "metadata": {},
   "source": [
    "# Decision tree model training with hyperparameter tuning"
   ]
  },
  {
   "cell_type": "code",
   "execution_count": 18,
   "id": "ff9a8924-33be-4dfa-a9fb-b758331f4e62",
   "metadata": {},
   "outputs": [],
   "source": [
    "import warnings \n",
    "warnings.filterwarnings('ignore')"
   ]
  },
  {
   "cell_type": "code",
   "execution_count": 24,
   "id": "5e052334-50e2-452d-bd6c-dfd62f205188",
   "metadata": {},
   "outputs": [],
   "source": [
    "parameter = { 'criterion': ['gini','entropy','log_loss'],\n",
    "             'splitter' :['best','random'],\n",
    "             'max_depth' : [1,2,3,4,5],\n",
    "             'max_features': ['auto','sqrt','log2']\n",
    "}"
   ]
  },
  {
   "cell_type": "code",
   "execution_count": 25,
   "id": "9c8a1ae3-cf9c-4924-8dd3-9d078be66f38",
   "metadata": {},
   "outputs": [],
   "source": [
    "from sklearn.model_selection import GridSearchCV\n",
    "from sklearn.tree import DecisionTreeClassifier\n",
    "classifier = DecisionTreeClassifier()"
   ]
  },
  {
   "cell_type": "code",
   "execution_count": 28,
   "id": "418671c2-c695-4bf5-80a2-8b9320f33b7d",
   "metadata": {},
   "outputs": [
    {
     "name": "stdout",
     "output_type": "stream",
     "text": [
      "Fitting 5 folds for each of 90 candidates, totalling 450 fits\n",
      "[CV 1/5] END criterion=gini, max_depth=1, max_features=auto, splitter=best;, score=0.638 total time=   0.0s\n",
      "[CV 2/5] END criterion=gini, max_depth=1, max_features=auto, splitter=best;, score=0.643 total time=   0.0s\n",
      "[CV 3/5] END criterion=gini, max_depth=1, max_features=auto, splitter=best;, score=0.652 total time=   0.0s\n",
      "[CV 4/5] END criterion=gini, max_depth=1, max_features=auto, splitter=best;, score=0.643 total time=   0.0s\n",
      "[CV 5/5] END criterion=gini, max_depth=1, max_features=auto, splitter=best;, score=0.722 total time=   0.0s\n",
      "[CV 1/5] END criterion=gini, max_depth=1, max_features=auto, splitter=random;, score=0.621 total time=   0.0s\n",
      "[CV 2/5] END criterion=gini, max_depth=1, max_features=auto, splitter=random;, score=0.643 total time=   0.0s\n",
      "[CV 3/5] END criterion=gini, max_depth=1, max_features=auto, splitter=random;, score=0.643 total time=   0.0s\n",
      "[CV 4/5] END criterion=gini, max_depth=1, max_features=auto, splitter=random;, score=0.643 total time=   0.0s\n",
      "[CV 5/5] END criterion=gini, max_depth=1, max_features=auto, splitter=random;, score=0.643 total time=   0.0s\n",
      "[CV 1/5] END criterion=gini, max_depth=1, max_features=sqrt, splitter=best;, score=0.612 total time=   0.0s\n",
      "[CV 2/5] END criterion=gini, max_depth=1, max_features=sqrt, splitter=best;, score=0.643 total time=   0.0s\n",
      "[CV 3/5] END criterion=gini, max_depth=1, max_features=sqrt, splitter=best;, score=0.591 total time=   0.0s\n",
      "[CV 4/5] END criterion=gini, max_depth=1, max_features=sqrt, splitter=best;, score=0.643 total time=   0.0s\n",
      "[CV 5/5] END criterion=gini, max_depth=1, max_features=sqrt, splitter=best;, score=0.583 total time=   0.0s\n",
      "[CV 1/5] END criterion=gini, max_depth=1, max_features=sqrt, splitter=random;, score=0.603 total time=   0.0s\n",
      "[CV 2/5] END criterion=gini, max_depth=1, max_features=sqrt, splitter=random;, score=0.643 total time=   0.0s\n",
      "[CV 3/5] END criterion=gini, max_depth=1, max_features=sqrt, splitter=random;, score=0.643 total time=   0.0s\n",
      "[CV 4/5] END criterion=gini, max_depth=1, max_features=sqrt, splitter=random;, score=0.635 total time=   0.0s\n",
      "[CV 5/5] END criterion=gini, max_depth=1, max_features=sqrt, splitter=random;, score=0.739 total time=   0.0s\n",
      "[CV 1/5] END criterion=gini, max_depth=1, max_features=log2, splitter=best;, score=0.638 total time=   0.0s\n",
      "[CV 2/5] END criterion=gini, max_depth=1, max_features=log2, splitter=best;, score=0.643 total time=   0.0s\n",
      "[CV 3/5] END criterion=gini, max_depth=1, max_features=log2, splitter=best;, score=0.643 total time=   0.0s\n",
      "[CV 4/5] END criterion=gini, max_depth=1, max_features=log2, splitter=best;, score=0.687 total time=   0.0s\n",
      "[CV 5/5] END criterion=gini, max_depth=1, max_features=log2, splitter=best;, score=0.643 total time=   0.0s\n",
      "[CV 1/5] END criterion=gini, max_depth=1, max_features=log2, splitter=random;, score=0.647 total time=   0.0s\n",
      "[CV 2/5] END criterion=gini, max_depth=1, max_features=log2, splitter=random;, score=0.652 total time=   0.0s\n",
      "[CV 3/5] END criterion=gini, max_depth=1, max_features=log2, splitter=random;, score=0.643 total time=   0.0s\n",
      "[CV 4/5] END criterion=gini, max_depth=1, max_features=log2, splitter=random;, score=0.643 total time=   0.0s\n",
      "[CV 5/5] END criterion=gini, max_depth=1, max_features=log2, splitter=random;, score=0.670 total time=   0.0s\n",
      "[CV 1/5] END criterion=gini, max_depth=2, max_features=auto, splitter=best;, score=0.698 total time=   0.0s\n",
      "[CV 2/5] END criterion=gini, max_depth=2, max_features=auto, splitter=best;, score=0.748 total time=   0.0s\n",
      "[CV 3/5] END criterion=gini, max_depth=2, max_features=auto, splitter=best;, score=0.670 total time=   0.0s\n",
      "[CV 4/5] END criterion=gini, max_depth=2, max_features=auto, splitter=best;, score=0.670 total time=   0.0s\n",
      "[CV 5/5] END criterion=gini, max_depth=2, max_features=auto, splitter=best;, score=0.643 total time=   0.0s\n",
      "[CV 1/5] END criterion=gini, max_depth=2, max_features=auto, splitter=random;, score=0.638 total time=   0.0s\n",
      "[CV 2/5] END criterion=gini, max_depth=2, max_features=auto, splitter=random;, score=0.652 total time=   0.0s\n",
      "[CV 3/5] END criterion=gini, max_depth=2, max_features=auto, splitter=random;, score=0.643 total time=   0.0s\n",
      "[CV 4/5] END criterion=gini, max_depth=2, max_features=auto, splitter=random;, score=0.609 total time=   0.0s\n",
      "[CV 5/5] END criterion=gini, max_depth=2, max_features=auto, splitter=random;, score=0.661 total time=   0.0s\n",
      "[CV 1/5] END criterion=gini, max_depth=2, max_features=sqrt, splitter=best;, score=0.629 total time=   0.0s\n",
      "[CV 2/5] END criterion=gini, max_depth=2, max_features=sqrt, splitter=best;, score=0.748 total time=   0.0s\n",
      "[CV 3/5] END criterion=gini, max_depth=2, max_features=sqrt, splitter=best;, score=0.730 total time=   0.0s\n",
      "[CV 4/5] END criterion=gini, max_depth=2, max_features=sqrt, splitter=best;, score=0.670 total time=   0.0s\n",
      "[CV 5/5] END criterion=gini, max_depth=2, max_features=sqrt, splitter=best;, score=0.643 total time=   0.0s\n",
      "[CV 1/5] END criterion=gini, max_depth=2, max_features=sqrt, splitter=random;, score=0.638 total time=   0.0s\n",
      "[CV 2/5] END criterion=gini, max_depth=2, max_features=sqrt, splitter=random;, score=0.704 total time=   0.0s\n",
      "[CV 3/5] END criterion=gini, max_depth=2, max_features=sqrt, splitter=random;, score=0.643 total time=   0.0s\n",
      "[CV 4/5] END criterion=gini, max_depth=2, max_features=sqrt, splitter=random;, score=0.617 total time=   0.0s\n",
      "[CV 5/5] END criterion=gini, max_depth=2, max_features=sqrt, splitter=random;, score=0.687 total time=   0.0s\n",
      "[CV 1/5] END criterion=gini, max_depth=2, max_features=log2, splitter=best;, score=0.698 total time=   0.0s\n",
      "[CV 2/5] END criterion=gini, max_depth=2, max_features=log2, splitter=best;, score=0.609 total time=   0.0s\n",
      "[CV 3/5] END criterion=gini, max_depth=2, max_features=log2, splitter=best;, score=0.730 total time=   0.0s\n",
      "[CV 4/5] END criterion=gini, max_depth=2, max_features=log2, splitter=best;, score=0.704 total time=   0.0s\n",
      "[CV 5/5] END criterion=gini, max_depth=2, max_features=log2, splitter=best;, score=0.739 total time=   0.0s\n",
      "[CV 1/5] END criterion=gini, max_depth=2, max_features=log2, splitter=random;, score=0.612 total time=   0.0s\n",
      "[CV 2/5] END criterion=gini, max_depth=2, max_features=log2, splitter=random;, score=0.696 total time=   0.0s\n",
      "[CV 3/5] END criterion=gini, max_depth=2, max_features=log2, splitter=random;, score=0.678 total time=   0.0s\n",
      "[CV 4/5] END criterion=gini, max_depth=2, max_features=log2, splitter=random;, score=0.652 total time=   0.0s\n",
      "[CV 5/5] END criterion=gini, max_depth=2, max_features=log2, splitter=random;, score=0.670 total time=   0.0s\n",
      "[CV 1/5] END criterion=gini, max_depth=3, max_features=auto, splitter=best;, score=0.724 total time=   0.0s\n",
      "[CV 2/5] END criterion=gini, max_depth=3, max_features=auto, splitter=best;, score=0.713 total time=   0.0s\n",
      "[CV 3/5] END criterion=gini, max_depth=3, max_features=auto, splitter=best;, score=0.626 total time=   0.0s\n",
      "[CV 4/5] END criterion=gini, max_depth=3, max_features=auto, splitter=best;, score=0.696 total time=   0.0s\n",
      "[CV 5/5] END criterion=gini, max_depth=3, max_features=auto, splitter=best;, score=0.617 total time=   0.0s\n",
      "[CV 1/5] END criterion=gini, max_depth=3, max_features=auto, splitter=random;, score=0.655 total time=   0.0s\n",
      "[CV 2/5] END criterion=gini, max_depth=3, max_features=auto, splitter=random;, score=0.713 total time=   0.0s\n",
      "[CV 3/5] END criterion=gini, max_depth=3, max_features=auto, splitter=random;, score=0.704 total time=   0.0s\n",
      "[CV 4/5] END criterion=gini, max_depth=3, max_features=auto, splitter=random;, score=0.670 total time=   0.0s\n",
      "[CV 5/5] END criterion=gini, max_depth=3, max_features=auto, splitter=random;, score=0.713 total time=   0.0s\n",
      "[CV 1/5] END criterion=gini, max_depth=3, max_features=sqrt, splitter=best;, score=0.638 total time=   0.0s\n",
      "[CV 2/5] END criterion=gini, max_depth=3, max_features=sqrt, splitter=best;, score=0.722 total time=   0.0s\n",
      "[CV 3/5] END criterion=gini, max_depth=3, max_features=sqrt, splitter=best;, score=0.626 total time=   0.0s\n",
      "[CV 4/5] END criterion=gini, max_depth=3, max_features=sqrt, splitter=best;, score=0.704 total time=   0.0s\n",
      "[CV 5/5] END criterion=gini, max_depth=3, max_features=sqrt, splitter=best;, score=0.652 total time=   0.0s\n",
      "[CV 1/5] END criterion=gini, max_depth=3, max_features=sqrt, splitter=random;, score=0.638 total time=   0.0s\n",
      "[CV 2/5] END criterion=gini, max_depth=3, max_features=sqrt, splitter=random;, score=0.643 total time=   0.0s\n",
      "[CV 3/5] END criterion=gini, max_depth=3, max_features=sqrt, splitter=random;, score=0.670 total time=   0.0s\n",
      "[CV 4/5] END criterion=gini, max_depth=3, max_features=sqrt, splitter=random;, score=0.661 total time=   0.0s\n",
      "[CV 5/5] END criterion=gini, max_depth=3, max_features=sqrt, splitter=random;, score=0.635 total time=   0.0s\n",
      "[CV 1/5] END criterion=gini, max_depth=3, max_features=log2, splitter=best;, score=0.690 total time=   0.0s\n",
      "[CV 2/5] END criterion=gini, max_depth=3, max_features=log2, splitter=best;, score=0.757 total time=   0.0s\n",
      "[CV 3/5] END criterion=gini, max_depth=3, max_features=log2, splitter=best;, score=0.730 total time=   0.0s\n",
      "[CV 4/5] END criterion=gini, max_depth=3, max_features=log2, splitter=best;, score=0.678 total time=   0.0s\n",
      "[CV 5/5] END criterion=gini, max_depth=3, max_features=log2, splitter=best;, score=0.722 total time=   0.0s\n",
      "[CV 1/5] END criterion=gini, max_depth=3, max_features=log2, splitter=random;, score=0.681 total time=   0.0s\n",
      "[CV 2/5] END criterion=gini, max_depth=3, max_features=log2, splitter=random;, score=0.704 total time=   0.0s\n",
      "[CV 3/5] END criterion=gini, max_depth=3, max_features=log2, splitter=random;, score=0.757 total time=   0.0s\n",
      "[CV 4/5] END criterion=gini, max_depth=3, max_features=log2, splitter=random;, score=0.617 total time=   0.0s\n",
      "[CV 5/5] END criterion=gini, max_depth=3, max_features=log2, splitter=random;, score=0.696 total time=   0.0s\n",
      "[CV 1/5] END criterion=gini, max_depth=4, max_features=auto, splitter=best;, score=0.690 total time=   0.0s\n",
      "[CV 2/5] END criterion=gini, max_depth=4, max_features=auto, splitter=best;, score=0.652 total time=   0.0s\n",
      "[CV 3/5] END criterion=gini, max_depth=4, max_features=auto, splitter=best;, score=0.730 total time=   0.0s\n",
      "[CV 4/5] END criterion=gini, max_depth=4, max_features=auto, splitter=best;, score=0.626 total time=   0.0s\n",
      "[CV 5/5] END criterion=gini, max_depth=4, max_features=auto, splitter=best;, score=0.704 total time=   0.0s\n",
      "[CV 1/5] END criterion=gini, max_depth=4, max_features=auto, splitter=random;, score=0.776 total time=   0.0s\n",
      "[CV 2/5] END criterion=gini, max_depth=4, max_features=auto, splitter=random;, score=0.722 total time=   0.0s\n",
      "[CV 3/5] END criterion=gini, max_depth=4, max_features=auto, splitter=random;, score=0.670 total time=   0.0s\n",
      "[CV 4/5] END criterion=gini, max_depth=4, max_features=auto, splitter=random;, score=0.626 total time=   0.0s\n",
      "[CV 5/5] END criterion=gini, max_depth=4, max_features=auto, splitter=random;, score=0.757 total time=   0.0s\n",
      "[CV 1/5] END criterion=gini, max_depth=4, max_features=sqrt, splitter=best;, score=0.716 total time=   0.0s\n",
      "[CV 2/5] END criterion=gini, max_depth=4, max_features=sqrt, splitter=best;, score=0.748 total time=   0.0s\n",
      "[CV 3/5] END criterion=gini, max_depth=4, max_features=sqrt, splitter=best;, score=0.617 total time=   0.0s\n",
      "[CV 4/5] END criterion=gini, max_depth=4, max_features=sqrt, splitter=best;, score=0.661 total time=   0.0s\n",
      "[CV 5/5] END criterion=gini, max_depth=4, max_features=sqrt, splitter=best;, score=0.730 total time=   0.0s\n",
      "[CV 1/5] END criterion=gini, max_depth=4, max_features=sqrt, splitter=random;, score=0.733 total time=   0.0s\n",
      "[CV 2/5] END criterion=gini, max_depth=4, max_features=sqrt, splitter=random;, score=0.661 total time=   0.0s\n",
      "[CV 3/5] END criterion=gini, max_depth=4, max_features=sqrt, splitter=random;, score=0.643 total time=   0.0s\n",
      "[CV 4/5] END criterion=gini, max_depth=4, max_features=sqrt, splitter=random;, score=0.617 total time=   0.0s\n",
      "[CV 5/5] END criterion=gini, max_depth=4, max_features=sqrt, splitter=random;, score=0.661 total time=   0.0s\n",
      "[CV 1/5] END criterion=gini, max_depth=4, max_features=log2, splitter=best;, score=0.724 total time=   0.0s\n",
      "[CV 2/5] END criterion=gini, max_depth=4, max_features=log2, splitter=best;, score=0.783 total time=   0.0s\n",
      "[CV 3/5] END criterion=gini, max_depth=4, max_features=log2, splitter=best;, score=0.722 total time=   0.0s\n",
      "[CV 4/5] END criterion=gini, max_depth=4, max_features=log2, splitter=best;, score=0.678 total time=   0.0s\n",
      "[CV 5/5] END criterion=gini, max_depth=4, max_features=log2, splitter=best;, score=0.730 total time=   0.0s\n",
      "[CV 1/5] END criterion=gini, max_depth=4, max_features=log2, splitter=random;, score=0.707 total time=   0.0s\n",
      "[CV 2/5] END criterion=gini, max_depth=4, max_features=log2, splitter=random;, score=0.661 total time=   0.0s\n",
      "[CV 3/5] END criterion=gini, max_depth=4, max_features=log2, splitter=random;, score=0.722 total time=   0.0s\n",
      "[CV 4/5] END criterion=gini, max_depth=4, max_features=log2, splitter=random;, score=0.722 total time=   0.0s\n",
      "[CV 5/5] END criterion=gini, max_depth=4, max_features=log2, splitter=random;, score=0.757 total time=   0.0s\n",
      "[CV 1/5] END criterion=gini, max_depth=5, max_features=auto, splitter=best;, score=0.655 total time=   0.0s\n",
      "[CV 2/5] END criterion=gini, max_depth=5, max_features=auto, splitter=best;, score=0.730 total time=   0.0s\n",
      "[CV 3/5] END criterion=gini, max_depth=5, max_features=auto, splitter=best;, score=0.713 total time=   0.0s\n",
      "[CV 4/5] END criterion=gini, max_depth=5, max_features=auto, splitter=best;, score=0.730 total time=   0.0s\n",
      "[CV 5/5] END criterion=gini, max_depth=5, max_features=auto, splitter=best;, score=0.757 total time=   0.0s\n",
      "[CV 1/5] END criterion=gini, max_depth=5, max_features=auto, splitter=random;, score=0.638 total time=   0.0s\n",
      "[CV 2/5] END criterion=gini, max_depth=5, max_features=auto, splitter=random;, score=0.739 total time=   0.0s\n",
      "[CV 3/5] END criterion=gini, max_depth=5, max_features=auto, splitter=random;, score=0.670 total time=   0.0s\n",
      "[CV 4/5] END criterion=gini, max_depth=5, max_features=auto, splitter=random;, score=0.643 total time=   0.0s\n",
      "[CV 5/5] END criterion=gini, max_depth=5, max_features=auto, splitter=random;, score=0.696 total time=   0.0s\n",
      "[CV 1/5] END criterion=gini, max_depth=5, max_features=sqrt, splitter=best;, score=0.655 total time=   0.0s\n",
      "[CV 2/5] END criterion=gini, max_depth=5, max_features=sqrt, splitter=best;, score=0.739 total time=   0.0s\n",
      "[CV 3/5] END criterion=gini, max_depth=5, max_features=sqrt, splitter=best;, score=0.652 total time=   0.0s\n",
      "[CV 4/5] END criterion=gini, max_depth=5, max_features=sqrt, splitter=best;, score=0.600 total time=   0.0s\n",
      "[CV 5/5] END criterion=gini, max_depth=5, max_features=sqrt, splitter=best;, score=0.748 total time=   0.0s\n",
      "[CV 1/5] END criterion=gini, max_depth=5, max_features=sqrt, splitter=random;, score=0.655 total time=   0.0s\n",
      "[CV 2/5] END criterion=gini, max_depth=5, max_features=sqrt, splitter=random;, score=0.643 total time=   0.0s\n",
      "[CV 3/5] END criterion=gini, max_depth=5, max_features=sqrt, splitter=random;, score=0.670 total time=   0.0s\n",
      "[CV 4/5] END criterion=gini, max_depth=5, max_features=sqrt, splitter=random;, score=0.704 total time=   0.0s\n",
      "[CV 5/5] END criterion=gini, max_depth=5, max_features=sqrt, splitter=random;, score=0.739 total time=   0.0s\n",
      "[CV 1/5] END criterion=gini, max_depth=5, max_features=log2, splitter=best;, score=0.716 total time=   0.0s\n",
      "[CV 2/5] END criterion=gini, max_depth=5, max_features=log2, splitter=best;, score=0.748 total time=   0.0s\n",
      "[CV 3/5] END criterion=gini, max_depth=5, max_features=log2, splitter=best;, score=0.661 total time=   0.0s\n",
      "[CV 4/5] END criterion=gini, max_depth=5, max_features=log2, splitter=best;, score=0.678 total time=   0.0s\n",
      "[CV 5/5] END criterion=gini, max_depth=5, max_features=log2, splitter=best;, score=0.730 total time=   0.0s\n",
      "[CV 1/5] END criterion=gini, max_depth=5, max_features=log2, splitter=random;, score=0.690 total time=   0.0s\n",
      "[CV 2/5] END criterion=gini, max_depth=5, max_features=log2, splitter=random;, score=0.696 total time=   0.0s\n",
      "[CV 3/5] END criterion=gini, max_depth=5, max_features=log2, splitter=random;, score=0.765 total time=   0.0s\n",
      "[CV 4/5] END criterion=gini, max_depth=5, max_features=log2, splitter=random;, score=0.739 total time=   0.0s\n",
      "[CV 5/5] END criterion=gini, max_depth=5, max_features=log2, splitter=random;, score=0.704 total time=   0.0s\n",
      "[CV 1/5] END criterion=entropy, max_depth=1, max_features=auto, splitter=best;, score=0.698 total time=   0.0s\n",
      "[CV 2/5] END criterion=entropy, max_depth=1, max_features=auto, splitter=best;, score=0.643 total time=   0.0s\n",
      "[CV 3/5] END criterion=entropy, max_depth=1, max_features=auto, splitter=best;, score=0.661 total time=   0.0s\n",
      "[CV 4/5] END criterion=entropy, max_depth=1, max_features=auto, splitter=best;, score=0.678 total time=   0.0s\n",
      "[CV 5/5] END criterion=entropy, max_depth=1, max_features=auto, splitter=best;, score=0.643 total time=   0.0s\n",
      "[CV 1/5] END criterion=entropy, max_depth=1, max_features=auto, splitter=random;, score=0.638 total time=   0.0s\n",
      "[CV 2/5] END criterion=entropy, max_depth=1, max_features=auto, splitter=random;, score=0.739 total time=   0.0s\n",
      "[CV 3/5] END criterion=entropy, max_depth=1, max_features=auto, splitter=random;, score=0.670 total time=   0.0s\n",
      "[CV 4/5] END criterion=entropy, max_depth=1, max_features=auto, splitter=random;, score=0.643 total time=   0.0s\n",
      "[CV 5/5] END criterion=entropy, max_depth=1, max_features=auto, splitter=random;, score=0.643 total time=   0.0s\n",
      "[CV 1/5] END criterion=entropy, max_depth=1, max_features=sqrt, splitter=best;, score=0.612 total time=   0.0s\n",
      "[CV 2/5] END criterion=entropy, max_depth=1, max_features=sqrt, splitter=best;, score=0.643 total time=   0.0s\n",
      "[CV 3/5] END criterion=entropy, max_depth=1, max_features=sqrt, splitter=best;, score=0.643 total time=   0.0s\n",
      "[CV 4/5] END criterion=entropy, max_depth=1, max_features=sqrt, splitter=best;, score=0.661 total time=   0.0s\n",
      "[CV 5/5] END criterion=entropy, max_depth=1, max_features=sqrt, splitter=best;, score=0.643 total time=   0.0s\n",
      "[CV 1/5] END criterion=entropy, max_depth=1, max_features=sqrt, splitter=random;, score=0.621 total time=   0.0s\n",
      "[CV 2/5] END criterion=entropy, max_depth=1, max_features=sqrt, splitter=random;, score=0.643 total time=   0.0s\n",
      "[CV 3/5] END criterion=entropy, max_depth=1, max_features=sqrt, splitter=random;, score=0.643 total time=   0.0s\n",
      "[CV 4/5] END criterion=entropy, max_depth=1, max_features=sqrt, splitter=random;, score=0.643 total time=   0.0s\n",
      "[CV 5/5] END criterion=entropy, max_depth=1, max_features=sqrt, splitter=random;, score=0.643 total time=   0.0s\n",
      "[CV 1/5] END criterion=entropy, max_depth=1, max_features=log2, splitter=best;, score=0.638 total time=   0.0s\n",
      "[CV 2/5] END criterion=entropy, max_depth=1, max_features=log2, splitter=best;, score=0.748 total time=   0.0s\n",
      "[CV 3/5] END criterion=entropy, max_depth=1, max_features=log2, splitter=best;, score=0.591 total time=   0.0s\n",
      "[CV 4/5] END criterion=entropy, max_depth=1, max_features=log2, splitter=best;, score=0.678 total time=   0.0s\n",
      "[CV 5/5] END criterion=entropy, max_depth=1, max_features=log2, splitter=best;, score=0.722 total time=   0.0s\n",
      "[CV 1/5] END criterion=entropy, max_depth=1, max_features=log2, splitter=random;, score=0.724 total time=   0.0s\n",
      "[CV 2/5] END criterion=entropy, max_depth=1, max_features=log2, splitter=random;, score=0.635 total time=   0.0s\n",
      "[CV 3/5] END criterion=entropy, max_depth=1, max_features=log2, splitter=random;, score=0.643 total time=   0.0s\n",
      "[CV 4/5] END criterion=entropy, max_depth=1, max_features=log2, splitter=random;, score=0.687 total time=   0.0s\n",
      "[CV 5/5] END criterion=entropy, max_depth=1, max_features=log2, splitter=random;, score=0.643 total time=   0.0s\n",
      "[CV 1/5] END criterion=entropy, max_depth=2, max_features=auto, splitter=best;, score=0.664 total time=   0.0s\n",
      "[CV 2/5] END criterion=entropy, max_depth=2, max_features=auto, splitter=best;, score=0.635 total time=   0.0s\n",
      "[CV 3/5] END criterion=entropy, max_depth=2, max_features=auto, splitter=best;, score=0.652 total time=   0.0s\n",
      "[CV 4/5] END criterion=entropy, max_depth=2, max_features=auto, splitter=best;, score=0.643 total time=   0.0s\n",
      "[CV 5/5] END criterion=entropy, max_depth=2, max_features=auto, splitter=best;, score=0.739 total time=   0.0s\n",
      "[CV 1/5] END criterion=entropy, max_depth=2, max_features=auto, splitter=random;, score=0.638 total time=   0.0s\n",
      "[CV 2/5] END criterion=entropy, max_depth=2, max_features=auto, splitter=random;, score=0.739 total time=   0.0s\n",
      "[CV 3/5] END criterion=entropy, max_depth=2, max_features=auto, splitter=random;, score=0.670 total time=   0.0s\n",
      "[CV 4/5] END criterion=entropy, max_depth=2, max_features=auto, splitter=random;, score=0.652 total time=   0.0s\n",
      "[CV 5/5] END criterion=entropy, max_depth=2, max_features=auto, splitter=random;, score=0.652 total time=   0.0s\n",
      "[CV 1/5] END criterion=entropy, max_depth=2, max_features=sqrt, splitter=best;, score=0.759 total time=   0.0s\n",
      "[CV 2/5] END criterion=entropy, max_depth=2, max_features=sqrt, splitter=best;, score=0.722 total time=   0.0s\n",
      "[CV 3/5] END criterion=entropy, max_depth=2, max_features=sqrt, splitter=best;, score=0.670 total time=   0.0s\n",
      "[CV 4/5] END criterion=entropy, max_depth=2, max_features=sqrt, splitter=best;, score=0.687 total time=   0.0s\n",
      "[CV 5/5] END criterion=entropy, max_depth=2, max_features=sqrt, splitter=best;, score=0.722 total time=   0.0s\n",
      "[CV 1/5] END criterion=entropy, max_depth=2, max_features=sqrt, splitter=random;, score=0.621 total time=   0.0s\n",
      "[CV 2/5] END criterion=entropy, max_depth=2, max_features=sqrt, splitter=random;, score=0.722 total time=   0.0s\n",
      "[CV 3/5] END criterion=entropy, max_depth=2, max_features=sqrt, splitter=random;, score=0.617 total time=   0.0s\n",
      "[CV 4/5] END criterion=entropy, max_depth=2, max_features=sqrt, splitter=random;, score=0.678 total time=   0.0s\n",
      "[CV 5/5] END criterion=entropy, max_depth=2, max_features=sqrt, splitter=random;, score=0.730 total time=   0.0s\n",
      "[CV 1/5] END criterion=entropy, max_depth=2, max_features=log2, splitter=best;, score=0.647 total time=   0.0s\n",
      "[CV 2/5] END criterion=entropy, max_depth=2, max_features=log2, splitter=best;, score=0.765 total time=   0.0s\n",
      "[CV 3/5] END criterion=entropy, max_depth=2, max_features=log2, splitter=best;, score=0.696 total time=   0.0s\n",
      "[CV 4/5] END criterion=entropy, max_depth=2, max_features=log2, splitter=best;, score=0.713 total time=   0.0s\n",
      "[CV 5/5] END criterion=entropy, max_depth=2, max_features=log2, splitter=best;, score=0.748 total time=   0.0s\n",
      "[CV 1/5] END criterion=entropy, max_depth=2, max_features=log2, splitter=random;, score=0.716 total time=   0.0s\n",
      "[CV 2/5] END criterion=entropy, max_depth=2, max_features=log2, splitter=random;, score=0.774 total time=   0.0s\n",
      "[CV 3/5] END criterion=entropy, max_depth=2, max_features=log2, splitter=random;, score=0.791 total time=   0.0s\n",
      "[CV 4/5] END criterion=entropy, max_depth=2, max_features=log2, splitter=random;, score=0.661 total time=   0.0s\n",
      "[CV 5/5] END criterion=entropy, max_depth=2, max_features=log2, splitter=random;, score=0.696 total time=   0.0s\n",
      "[CV 1/5] END criterion=entropy, max_depth=3, max_features=auto, splitter=best;, score=0.690 total time=   0.0s\n",
      "[CV 2/5] END criterion=entropy, max_depth=3, max_features=auto, splitter=best;, score=0.748 total time=   0.0s\n",
      "[CV 3/5] END criterion=entropy, max_depth=3, max_features=auto, splitter=best;, score=0.661 total time=   0.0s\n",
      "[CV 4/5] END criterion=entropy, max_depth=3, max_features=auto, splitter=best;, score=0.643 total time=   0.0s\n",
      "[CV 5/5] END criterion=entropy, max_depth=3, max_features=auto, splitter=best;, score=0.678 total time=   0.0s\n",
      "[CV 1/5] END criterion=entropy, max_depth=3, max_features=auto, splitter=random;, score=0.647 total time=   0.0s\n",
      "[CV 2/5] END criterion=entropy, max_depth=3, max_features=auto, splitter=random;, score=0.670 total time=   0.0s\n",
      "[CV 3/5] END criterion=entropy, max_depth=3, max_features=auto, splitter=random;, score=0.617 total time=   0.0s\n",
      "[CV 4/5] END criterion=entropy, max_depth=3, max_features=auto, splitter=random;, score=0.635 total time=   0.0s\n",
      "[CV 5/5] END criterion=entropy, max_depth=3, max_features=auto, splitter=random;, score=0.696 total time=   0.0s\n",
      "[CV 1/5] END criterion=entropy, max_depth=3, max_features=sqrt, splitter=best;, score=0.690 total time=   0.0s\n",
      "[CV 2/5] END criterion=entropy, max_depth=3, max_features=sqrt, splitter=best;, score=0.757 total time=   0.0s\n",
      "[CV 3/5] END criterion=entropy, max_depth=3, max_features=sqrt, splitter=best;, score=0.748 total time=   0.0s\n",
      "[CV 4/5] END criterion=entropy, max_depth=3, max_features=sqrt, splitter=best;, score=0.661 total time=   0.0s\n",
      "[CV 5/5] END criterion=entropy, max_depth=3, max_features=sqrt, splitter=best;, score=0.739 total time=   0.0s\n",
      "[CV 1/5] END criterion=entropy, max_depth=3, max_features=sqrt, splitter=random;, score=0.638 total time=   0.0s\n",
      "[CV 2/5] END criterion=entropy, max_depth=3, max_features=sqrt, splitter=random;, score=0.765 total time=   0.0s\n",
      "[CV 3/5] END criterion=entropy, max_depth=3, max_features=sqrt, splitter=random;, score=0.626 total time=   0.0s\n",
      "[CV 4/5] END criterion=entropy, max_depth=3, max_features=sqrt, splitter=random;, score=0.670 total time=   0.0s\n",
      "[CV 5/5] END criterion=entropy, max_depth=3, max_features=sqrt, splitter=random;, score=0.713 total time=   0.0s\n",
      "[CV 1/5] END criterion=entropy, max_depth=3, max_features=log2, splitter=best;, score=0.724 total time=   0.0s\n",
      "[CV 2/5] END criterion=entropy, max_depth=3, max_features=log2, splitter=best;, score=0.696 total time=   0.0s\n",
      "[CV 3/5] END criterion=entropy, max_depth=3, max_features=log2, splitter=best;, score=0.722 total time=   0.0s\n",
      "[CV 4/5] END criterion=entropy, max_depth=3, max_features=log2, splitter=best;, score=0.678 total time=   0.0s\n",
      "[CV 5/5] END criterion=entropy, max_depth=3, max_features=log2, splitter=best;, score=0.670 total time=   0.0s\n",
      "[CV 1/5] END criterion=entropy, max_depth=3, max_features=log2, splitter=random;, score=0.690 total time=   0.0s\n",
      "[CV 2/5] END criterion=entropy, max_depth=3, max_features=log2, splitter=random;, score=0.643 total time=   0.0s\n",
      "[CV 3/5] END criterion=entropy, max_depth=3, max_features=log2, splitter=random;, score=0.774 total time=   0.0s\n",
      "[CV 4/5] END criterion=entropy, max_depth=3, max_features=log2, splitter=random;, score=0.652 total time=   0.0s\n",
      "[CV 5/5] END criterion=entropy, max_depth=3, max_features=log2, splitter=random;, score=0.687 total time=   0.0s\n",
      "[CV 1/5] END criterion=entropy, max_depth=4, max_features=auto, splitter=best;, score=0.681 total time=   0.0s\n",
      "[CV 2/5] END criterion=entropy, max_depth=4, max_features=auto, splitter=best;, score=0.687 total time=   0.0s\n",
      "[CV 3/5] END criterion=entropy, max_depth=4, max_features=auto, splitter=best;, score=0.687 total time=   0.0s\n",
      "[CV 4/5] END criterion=entropy, max_depth=4, max_features=auto, splitter=best;, score=0.704 total time=   0.0s\n",
      "[CV 5/5] END criterion=entropy, max_depth=4, max_features=auto, splitter=best;, score=0.713 total time=   0.0s\n",
      "[CV 1/5] END criterion=entropy, max_depth=4, max_features=auto, splitter=random;, score=0.750 total time=   0.0s\n",
      "[CV 2/5] END criterion=entropy, max_depth=4, max_features=auto, splitter=random;, score=0.687 total time=   0.0s\n",
      "[CV 3/5] END criterion=entropy, max_depth=4, max_features=auto, splitter=random;, score=0.609 total time=   0.0s\n",
      "[CV 4/5] END criterion=entropy, max_depth=4, max_features=auto, splitter=random;, score=0.661 total time=   0.0s\n",
      "[CV 5/5] END criterion=entropy, max_depth=4, max_features=auto, splitter=random;, score=0.765 total time=   0.0s\n",
      "[CV 1/5] END criterion=entropy, max_depth=4, max_features=sqrt, splitter=best;, score=0.681 total time=   0.0s\n",
      "[CV 2/5] END criterion=entropy, max_depth=4, max_features=sqrt, splitter=best;, score=0.722 total time=   0.0s\n",
      "[CV 3/5] END criterion=entropy, max_depth=4, max_features=sqrt, splitter=best;, score=0.696 total time=   0.0s\n",
      "[CV 4/5] END criterion=entropy, max_depth=4, max_features=sqrt, splitter=best;, score=0.696 total time=   0.0s\n",
      "[CV 5/5] END criterion=entropy, max_depth=4, max_features=sqrt, splitter=best;, score=0.739 total time=   0.0s\n",
      "[CV 1/5] END criterion=entropy, max_depth=4, max_features=sqrt, splitter=random;, score=0.698 total time=   0.0s\n",
      "[CV 2/5] END criterion=entropy, max_depth=4, max_features=sqrt, splitter=random;, score=0.748 total time=   0.0s\n",
      "[CV 3/5] END criterion=entropy, max_depth=4, max_features=sqrt, splitter=random;, score=0.757 total time=   0.0s\n",
      "[CV 4/5] END criterion=entropy, max_depth=4, max_features=sqrt, splitter=random;, score=0.670 total time=   0.0s\n",
      "[CV 5/5] END criterion=entropy, max_depth=4, max_features=sqrt, splitter=random;, score=0.774 total time=   0.0s\n",
      "[CV 1/5] END criterion=entropy, max_depth=4, max_features=log2, splitter=best;, score=0.733 total time=   0.0s\n",
      "[CV 2/5] END criterion=entropy, max_depth=4, max_features=log2, splitter=best;, score=0.774 total time=   0.0s\n",
      "[CV 3/5] END criterion=entropy, max_depth=4, max_features=log2, splitter=best;, score=0.713 total time=   0.0s\n",
      "[CV 4/5] END criterion=entropy, max_depth=4, max_features=log2, splitter=best;, score=0.626 total time=   0.0s\n",
      "[CV 5/5] END criterion=entropy, max_depth=4, max_features=log2, splitter=best;, score=0.774 total time=   0.0s\n",
      "[CV 1/5] END criterion=entropy, max_depth=4, max_features=log2, splitter=random;, score=0.698 total time=   0.0s\n",
      "[CV 2/5] END criterion=entropy, max_depth=4, max_features=log2, splitter=random;, score=0.670 total time=   0.0s\n",
      "[CV 3/5] END criterion=entropy, max_depth=4, max_features=log2, splitter=random;, score=0.713 total time=   0.0s\n",
      "[CV 4/5] END criterion=entropy, max_depth=4, max_features=log2, splitter=random;, score=0.670 total time=   0.0s\n",
      "[CV 5/5] END criterion=entropy, max_depth=4, max_features=log2, splitter=random;, score=0.652 total time=   0.0s\n",
      "[CV 1/5] END criterion=entropy, max_depth=5, max_features=auto, splitter=best;, score=0.698 total time=   0.0s\n",
      "[CV 2/5] END criterion=entropy, max_depth=5, max_features=auto, splitter=best;, score=0.678 total time=   0.0s\n",
      "[CV 3/5] END criterion=entropy, max_depth=5, max_features=auto, splitter=best;, score=0.730 total time=   0.0s\n",
      "[CV 4/5] END criterion=entropy, max_depth=5, max_features=auto, splitter=best;, score=0.687 total time=   0.0s\n",
      "[CV 5/5] END criterion=entropy, max_depth=5, max_features=auto, splitter=best;, score=0.687 total time=   0.0s\n",
      "[CV 1/5] END criterion=entropy, max_depth=5, max_features=auto, splitter=random;, score=0.690 total time=   0.0s\n",
      "[CV 2/5] END criterion=entropy, max_depth=5, max_features=auto, splitter=random;, score=0.678 total time=   0.0s\n",
      "[CV 3/5] END criterion=entropy, max_depth=5, max_features=auto, splitter=random;, score=0.678 total time=   0.0s\n",
      "[CV 4/5] END criterion=entropy, max_depth=5, max_features=auto, splitter=random;, score=0.661 total time=   0.0s\n",
      "[CV 5/5] END criterion=entropy, max_depth=5, max_features=auto, splitter=random;, score=0.739 total time=   0.0s\n",
      "[CV 1/5] END criterion=entropy, max_depth=5, max_features=sqrt, splitter=best;, score=0.690 total time=   0.0s\n",
      "[CV 2/5] END criterion=entropy, max_depth=5, max_features=sqrt, splitter=best;, score=0.713 total time=   0.0s\n",
      "[CV 3/5] END criterion=entropy, max_depth=5, max_features=sqrt, splitter=best;, score=0.687 total time=   0.0s\n",
      "[CV 4/5] END criterion=entropy, max_depth=5, max_features=sqrt, splitter=best;, score=0.678 total time=   0.0s\n",
      "[CV 5/5] END criterion=entropy, max_depth=5, max_features=sqrt, splitter=best;, score=0.687 total time=   0.0s\n",
      "[CV 1/5] END criterion=entropy, max_depth=5, max_features=sqrt, splitter=random;, score=0.698 total time=   0.0s\n",
      "[CV 2/5] END criterion=entropy, max_depth=5, max_features=sqrt, splitter=random;, score=0.757 total time=   0.0s\n",
      "[CV 3/5] END criterion=entropy, max_depth=5, max_features=sqrt, splitter=random;, score=0.739 total time=   0.0s\n",
      "[CV 4/5] END criterion=entropy, max_depth=5, max_features=sqrt, splitter=random;, score=0.609 total time=   0.0s\n",
      "[CV 5/5] END criterion=entropy, max_depth=5, max_features=sqrt, splitter=random;, score=0.774 total time=   0.0s\n",
      "[CV 1/5] END criterion=entropy, max_depth=5, max_features=log2, splitter=best;, score=0.793 total time=   0.0s\n",
      "[CV 2/5] END criterion=entropy, max_depth=5, max_features=log2, splitter=best;, score=0.730 total time=   0.0s\n",
      "[CV 3/5] END criterion=entropy, max_depth=5, max_features=log2, splitter=best;, score=0.757 total time=   0.0s\n",
      "[CV 4/5] END criterion=entropy, max_depth=5, max_features=log2, splitter=best;, score=0.713 total time=   0.0s\n",
      "[CV 5/5] END criterion=entropy, max_depth=5, max_features=log2, splitter=best;, score=0.730 total time=   0.0s\n",
      "[CV 1/5] END criterion=entropy, max_depth=5, max_features=log2, splitter=random;, score=0.638 total time=   0.0s\n",
      "[CV 2/5] END criterion=entropy, max_depth=5, max_features=log2, splitter=random;, score=0.809 total time=   0.0s\n",
      "[CV 3/5] END criterion=entropy, max_depth=5, max_features=log2, splitter=random;, score=0.643 total time=   0.0s\n",
      "[CV 4/5] END criterion=entropy, max_depth=5, max_features=log2, splitter=random;, score=0.609 total time=   0.0s\n",
      "[CV 5/5] END criterion=entropy, max_depth=5, max_features=log2, splitter=random;, score=0.696 total time=   0.0s\n",
      "[CV 1/5] END criterion=log_loss, max_depth=1, max_features=auto, splitter=best;, score=nan total time=   0.0s\n",
      "[CV 2/5] END criterion=log_loss, max_depth=1, max_features=auto, splitter=best;, score=nan total time=   0.0s\n",
      "[CV 3/5] END criterion=log_loss, max_depth=1, max_features=auto, splitter=best;, score=nan total time=   0.0s\n",
      "[CV 4/5] END criterion=log_loss, max_depth=1, max_features=auto, splitter=best;, score=nan total time=   0.0s\n",
      "[CV 5/5] END criterion=log_loss, max_depth=1, max_features=auto, splitter=best;, score=nan total time=   0.0s\n",
      "[CV 1/5] END criterion=log_loss, max_depth=1, max_features=auto, splitter=random;, score=nan total time=   0.0s\n",
      "[CV 2/5] END criterion=log_loss, max_depth=1, max_features=auto, splitter=random;, score=nan total time=   0.0s\n",
      "[CV 3/5] END criterion=log_loss, max_depth=1, max_features=auto, splitter=random;, score=nan total time=   0.0s\n",
      "[CV 4/5] END criterion=log_loss, max_depth=1, max_features=auto, splitter=random;, score=nan total time=   0.0s\n",
      "[CV 5/5] END criterion=log_loss, max_depth=1, max_features=auto, splitter=random;, score=nan total time=   0.0s\n",
      "[CV 1/5] END criterion=log_loss, max_depth=1, max_features=sqrt, splitter=best;, score=nan total time=   0.0s\n",
      "[CV 2/5] END criterion=log_loss, max_depth=1, max_features=sqrt, splitter=best;, score=nan total time=   0.0s\n",
      "[CV 3/5] END criterion=log_loss, max_depth=1, max_features=sqrt, splitter=best;, score=nan total time=   0.0s\n",
      "[CV 4/5] END criterion=log_loss, max_depth=1, max_features=sqrt, splitter=best;, score=nan total time=   0.0s\n",
      "[CV 5/5] END criterion=log_loss, max_depth=1, max_features=sqrt, splitter=best;, score=nan total time=   0.0s\n",
      "[CV 1/5] END criterion=log_loss, max_depth=1, max_features=sqrt, splitter=random;, score=nan total time=   0.0s\n",
      "[CV 2/5] END criterion=log_loss, max_depth=1, max_features=sqrt, splitter=random;, score=nan total time=   0.0s\n",
      "[CV 3/5] END criterion=log_loss, max_depth=1, max_features=sqrt, splitter=random;, score=nan total time=   0.0s\n",
      "[CV 4/5] END criterion=log_loss, max_depth=1, max_features=sqrt, splitter=random;, score=nan total time=   0.0s\n",
      "[CV 5/5] END criterion=log_loss, max_depth=1, max_features=sqrt, splitter=random;, score=nan total time=   0.0s\n",
      "[CV 1/5] END criterion=log_loss, max_depth=1, max_features=log2, splitter=best;, score=nan total time=   0.0s\n",
      "[CV 2/5] END criterion=log_loss, max_depth=1, max_features=log2, splitter=best;, score=nan total time=   0.0s\n",
      "[CV 3/5] END criterion=log_loss, max_depth=1, max_features=log2, splitter=best;, score=nan total time=   0.0s\n",
      "[CV 4/5] END criterion=log_loss, max_depth=1, max_features=log2, splitter=best;, score=nan total time=   0.0s\n",
      "[CV 5/5] END criterion=log_loss, max_depth=1, max_features=log2, splitter=best;, score=nan total time=   0.0s\n",
      "[CV 1/5] END criterion=log_loss, max_depth=1, max_features=log2, splitter=random;, score=nan total time=   0.0s\n",
      "[CV 2/5] END criterion=log_loss, max_depth=1, max_features=log2, splitter=random;, score=nan total time=   0.0s\n",
      "[CV 3/5] END criterion=log_loss, max_depth=1, max_features=log2, splitter=random;, score=nan total time=   0.0s\n",
      "[CV 4/5] END criterion=log_loss, max_depth=1, max_features=log2, splitter=random;, score=nan total time=   0.0s\n",
      "[CV 5/5] END criterion=log_loss, max_depth=1, max_features=log2, splitter=random;, score=nan total time=   0.0s\n",
      "[CV 1/5] END criterion=log_loss, max_depth=2, max_features=auto, splitter=best;, score=nan total time=   0.0s\n",
      "[CV 2/5] END criterion=log_loss, max_depth=2, max_features=auto, splitter=best;, score=nan total time=   0.0s\n",
      "[CV 3/5] END criterion=log_loss, max_depth=2, max_features=auto, splitter=best;, score=nan total time=   0.0s\n",
      "[CV 4/5] END criterion=log_loss, max_depth=2, max_features=auto, splitter=best;, score=nan total time=   0.0s\n",
      "[CV 5/5] END criterion=log_loss, max_depth=2, max_features=auto, splitter=best;, score=nan total time=   0.0s\n",
      "[CV 1/5] END criterion=log_loss, max_depth=2, max_features=auto, splitter=random;, score=nan total time=   0.0s\n",
      "[CV 2/5] END criterion=log_loss, max_depth=2, max_features=auto, splitter=random;, score=nan total time=   0.0s\n",
      "[CV 3/5] END criterion=log_loss, max_depth=2, max_features=auto, splitter=random;, score=nan total time=   0.0s\n",
      "[CV 4/5] END criterion=log_loss, max_depth=2, max_features=auto, splitter=random;, score=nan total time=   0.0s\n",
      "[CV 5/5] END criterion=log_loss, max_depth=2, max_features=auto, splitter=random;, score=nan total time=   0.0s\n",
      "[CV 1/5] END criterion=log_loss, max_depth=2, max_features=sqrt, splitter=best;, score=nan total time=   0.0s\n",
      "[CV 2/5] END criterion=log_loss, max_depth=2, max_features=sqrt, splitter=best;, score=nan total time=   0.0s\n",
      "[CV 3/5] END criterion=log_loss, max_depth=2, max_features=sqrt, splitter=best;, score=nan total time=   0.0s\n",
      "[CV 4/5] END criterion=log_loss, max_depth=2, max_features=sqrt, splitter=best;, score=nan total time=   0.0s\n",
      "[CV 5/5] END criterion=log_loss, max_depth=2, max_features=sqrt, splitter=best;, score=nan total time=   0.0s\n",
      "[CV 1/5] END criterion=log_loss, max_depth=2, max_features=sqrt, splitter=random;, score=nan total time=   0.0s\n",
      "[CV 2/5] END criterion=log_loss, max_depth=2, max_features=sqrt, splitter=random;, score=nan total time=   0.0s\n",
      "[CV 3/5] END criterion=log_loss, max_depth=2, max_features=sqrt, splitter=random;, score=nan total time=   0.0s\n",
      "[CV 4/5] END criterion=log_loss, max_depth=2, max_features=sqrt, splitter=random;, score=nan total time=   0.0s\n",
      "[CV 5/5] END criterion=log_loss, max_depth=2, max_features=sqrt, splitter=random;, score=nan total time=   0.0s\n",
      "[CV 1/5] END criterion=log_loss, max_depth=2, max_features=log2, splitter=best;, score=nan total time=   0.0s\n",
      "[CV 2/5] END criterion=log_loss, max_depth=2, max_features=log2, splitter=best;, score=nan total time=   0.0s\n",
      "[CV 3/5] END criterion=log_loss, max_depth=2, max_features=log2, splitter=best;, score=nan total time=   0.0s\n",
      "[CV 4/5] END criterion=log_loss, max_depth=2, max_features=log2, splitter=best;, score=nan total time=   0.0s\n",
      "[CV 5/5] END criterion=log_loss, max_depth=2, max_features=log2, splitter=best;, score=nan total time=   0.0s\n",
      "[CV 1/5] END criterion=log_loss, max_depth=2, max_features=log2, splitter=random;, score=nan total time=   0.0s\n",
      "[CV 2/5] END criterion=log_loss, max_depth=2, max_features=log2, splitter=random;, score=nan total time=   0.0s\n",
      "[CV 3/5] END criterion=log_loss, max_depth=2, max_features=log2, splitter=random;, score=nan total time=   0.0s\n",
      "[CV 4/5] END criterion=log_loss, max_depth=2, max_features=log2, splitter=random;, score=nan total time=   0.0s\n",
      "[CV 5/5] END criterion=log_loss, max_depth=2, max_features=log2, splitter=random;, score=nan total time=   0.0s\n",
      "[CV 1/5] END criterion=log_loss, max_depth=3, max_features=auto, splitter=best;, score=nan total time=   0.0s\n",
      "[CV 2/5] END criterion=log_loss, max_depth=3, max_features=auto, splitter=best;, score=nan total time=   0.0s\n",
      "[CV 3/5] END criterion=log_loss, max_depth=3, max_features=auto, splitter=best;, score=nan total time=   0.0s\n",
      "[CV 4/5] END criterion=log_loss, max_depth=3, max_features=auto, splitter=best;, score=nan total time=   0.0s\n",
      "[CV 5/5] END criterion=log_loss, max_depth=3, max_features=auto, splitter=best;, score=nan total time=   0.0s\n",
      "[CV 1/5] END criterion=log_loss, max_depth=3, max_features=auto, splitter=random;, score=nan total time=   0.0s\n",
      "[CV 2/5] END criterion=log_loss, max_depth=3, max_features=auto, splitter=random;, score=nan total time=   0.0s\n",
      "[CV 3/5] END criterion=log_loss, max_depth=3, max_features=auto, splitter=random;, score=nan total time=   0.0s\n",
      "[CV 4/5] END criterion=log_loss, max_depth=3, max_features=auto, splitter=random;, score=nan total time=   0.0s\n",
      "[CV 5/5] END criterion=log_loss, max_depth=3, max_features=auto, splitter=random;, score=nan total time=   0.0s\n",
      "[CV 1/5] END criterion=log_loss, max_depth=3, max_features=sqrt, splitter=best;, score=nan total time=   0.0s\n",
      "[CV 2/5] END criterion=log_loss, max_depth=3, max_features=sqrt, splitter=best;, score=nan total time=   0.0s\n",
      "[CV 3/5] END criterion=log_loss, max_depth=3, max_features=sqrt, splitter=best;, score=nan total time=   0.0s\n",
      "[CV 4/5] END criterion=log_loss, max_depth=3, max_features=sqrt, splitter=best;, score=nan total time=   0.0s\n",
      "[CV 5/5] END criterion=log_loss, max_depth=3, max_features=sqrt, splitter=best;, score=nan total time=   0.0s\n",
      "[CV 1/5] END criterion=log_loss, max_depth=3, max_features=sqrt, splitter=random;, score=nan total time=   0.0s\n",
      "[CV 2/5] END criterion=log_loss, max_depth=3, max_features=sqrt, splitter=random;, score=nan total time=   0.0s\n",
      "[CV 3/5] END criterion=log_loss, max_depth=3, max_features=sqrt, splitter=random;, score=nan total time=   0.0s\n",
      "[CV 4/5] END criterion=log_loss, max_depth=3, max_features=sqrt, splitter=random;, score=nan total time=   0.0s\n",
      "[CV 5/5] END criterion=log_loss, max_depth=3, max_features=sqrt, splitter=random;, score=nan total time=   0.0s\n",
      "[CV 1/5] END criterion=log_loss, max_depth=3, max_features=log2, splitter=best;, score=nan total time=   0.0s\n",
      "[CV 2/5] END criterion=log_loss, max_depth=3, max_features=log2, splitter=best;, score=nan total time=   0.0s\n",
      "[CV 3/5] END criterion=log_loss, max_depth=3, max_features=log2, splitter=best;, score=nan total time=   0.0s\n",
      "[CV 4/5] END criterion=log_loss, max_depth=3, max_features=log2, splitter=best;, score=nan total time=   0.0s\n",
      "[CV 5/5] END criterion=log_loss, max_depth=3, max_features=log2, splitter=best;, score=nan total time=   0.0s\n",
      "[CV 1/5] END criterion=log_loss, max_depth=3, max_features=log2, splitter=random;, score=nan total time=   0.0s\n",
      "[CV 2/5] END criterion=log_loss, max_depth=3, max_features=log2, splitter=random;, score=nan total time=   0.0s\n",
      "[CV 3/5] END criterion=log_loss, max_depth=3, max_features=log2, splitter=random;, score=nan total time=   0.0s\n",
      "[CV 4/5] END criterion=log_loss, max_depth=3, max_features=log2, splitter=random;, score=nan total time=   0.0s\n",
      "[CV 5/5] END criterion=log_loss, max_depth=3, max_features=log2, splitter=random;, score=nan total time=   0.0s\n",
      "[CV 1/5] END criterion=log_loss, max_depth=4, max_features=auto, splitter=best;, score=nan total time=   0.0s\n",
      "[CV 2/5] END criterion=log_loss, max_depth=4, max_features=auto, splitter=best;, score=nan total time=   0.0s\n",
      "[CV 3/5] END criterion=log_loss, max_depth=4, max_features=auto, splitter=best;, score=nan total time=   0.0s\n",
      "[CV 4/5] END criterion=log_loss, max_depth=4, max_features=auto, splitter=best;, score=nan total time=   0.0s\n",
      "[CV 5/5] END criterion=log_loss, max_depth=4, max_features=auto, splitter=best;, score=nan total time=   0.0s\n",
      "[CV 1/5] END criterion=log_loss, max_depth=4, max_features=auto, splitter=random;, score=nan total time=   0.0s\n",
      "[CV 2/5] END criterion=log_loss, max_depth=4, max_features=auto, splitter=random;, score=nan total time=   0.0s\n",
      "[CV 3/5] END criterion=log_loss, max_depth=4, max_features=auto, splitter=random;, score=nan total time=   0.0s\n",
      "[CV 4/5] END criterion=log_loss, max_depth=4, max_features=auto, splitter=random;, score=nan total time=   0.0s\n",
      "[CV 5/5] END criterion=log_loss, max_depth=4, max_features=auto, splitter=random;, score=nan total time=   0.0s\n",
      "[CV 1/5] END criterion=log_loss, max_depth=4, max_features=sqrt, splitter=best;, score=nan total time=   0.0s\n",
      "[CV 2/5] END criterion=log_loss, max_depth=4, max_features=sqrt, splitter=best;, score=nan total time=   0.0s\n",
      "[CV 3/5] END criterion=log_loss, max_depth=4, max_features=sqrt, splitter=best;, score=nan total time=   0.0s\n",
      "[CV 4/5] END criterion=log_loss, max_depth=4, max_features=sqrt, splitter=best;, score=nan total time=   0.0s\n",
      "[CV 5/5] END criterion=log_loss, max_depth=4, max_features=sqrt, splitter=best;, score=nan total time=   0.0s\n",
      "[CV 1/5] END criterion=log_loss, max_depth=4, max_features=sqrt, splitter=random;, score=nan total time=   0.0s\n",
      "[CV 2/5] END criterion=log_loss, max_depth=4, max_features=sqrt, splitter=random;, score=nan total time=   0.0s\n",
      "[CV 3/5] END criterion=log_loss, max_depth=4, max_features=sqrt, splitter=random;, score=nan total time=   0.0s\n",
      "[CV 4/5] END criterion=log_loss, max_depth=4, max_features=sqrt, splitter=random;, score=nan total time=   0.0s\n",
      "[CV 5/5] END criterion=log_loss, max_depth=4, max_features=sqrt, splitter=random;, score=nan total time=   0.0s\n",
      "[CV 1/5] END criterion=log_loss, max_depth=4, max_features=log2, splitter=best;, score=nan total time=   0.0s\n",
      "[CV 2/5] END criterion=log_loss, max_depth=4, max_features=log2, splitter=best;, score=nan total time=   0.0s\n",
      "[CV 3/5] END criterion=log_loss, max_depth=4, max_features=log2, splitter=best;, score=nan total time=   0.0s\n",
      "[CV 4/5] END criterion=log_loss, max_depth=4, max_features=log2, splitter=best;, score=nan total time=   0.0s\n",
      "[CV 5/5] END criterion=log_loss, max_depth=4, max_features=log2, splitter=best;, score=nan total time=   0.0s\n",
      "[CV 1/5] END criterion=log_loss, max_depth=4, max_features=log2, splitter=random;, score=nan total time=   0.0s\n",
      "[CV 2/5] END criterion=log_loss, max_depth=4, max_features=log2, splitter=random;, score=nan total time=   0.0s\n",
      "[CV 3/5] END criterion=log_loss, max_depth=4, max_features=log2, splitter=random;, score=nan total time=   0.0s\n",
      "[CV 4/5] END criterion=log_loss, max_depth=4, max_features=log2, splitter=random;, score=nan total time=   0.0s\n",
      "[CV 5/5] END criterion=log_loss, max_depth=4, max_features=log2, splitter=random;, score=nan total time=   0.0s\n",
      "[CV 1/5] END criterion=log_loss, max_depth=5, max_features=auto, splitter=best;, score=nan total time=   0.0s\n",
      "[CV 2/5] END criterion=log_loss, max_depth=5, max_features=auto, splitter=best;, score=nan total time=   0.0s\n",
      "[CV 3/5] END criterion=log_loss, max_depth=5, max_features=auto, splitter=best;, score=nan total time=   0.0s\n",
      "[CV 4/5] END criterion=log_loss, max_depth=5, max_features=auto, splitter=best;, score=nan total time=   0.0s\n",
      "[CV 5/5] END criterion=log_loss, max_depth=5, max_features=auto, splitter=best;, score=nan total time=   0.0s\n",
      "[CV 1/5] END criterion=log_loss, max_depth=5, max_features=auto, splitter=random;, score=nan total time=   0.0s\n",
      "[CV 2/5] END criterion=log_loss, max_depth=5, max_features=auto, splitter=random;, score=nan total time=   0.0s\n",
      "[CV 3/5] END criterion=log_loss, max_depth=5, max_features=auto, splitter=random;, score=nan total time=   0.0s\n",
      "[CV 4/5] END criterion=log_loss, max_depth=5, max_features=auto, splitter=random;, score=nan total time=   0.0s\n",
      "[CV 5/5] END criterion=log_loss, max_depth=5, max_features=auto, splitter=random;, score=nan total time=   0.0s\n",
      "[CV 1/5] END criterion=log_loss, max_depth=5, max_features=sqrt, splitter=best;, score=nan total time=   0.0s\n",
      "[CV 2/5] END criterion=log_loss, max_depth=5, max_features=sqrt, splitter=best;, score=nan total time=   0.0s\n",
      "[CV 3/5] END criterion=log_loss, max_depth=5, max_features=sqrt, splitter=best;, score=nan total time=   0.0s\n",
      "[CV 4/5] END criterion=log_loss, max_depth=5, max_features=sqrt, splitter=best;, score=nan total time=   0.0s\n",
      "[CV 5/5] END criterion=log_loss, max_depth=5, max_features=sqrt, splitter=best;, score=nan total time=   0.0s\n",
      "[CV 1/5] END criterion=log_loss, max_depth=5, max_features=sqrt, splitter=random;, score=nan total time=   0.0s\n",
      "[CV 2/5] END criterion=log_loss, max_depth=5, max_features=sqrt, splitter=random;, score=nan total time=   0.0s\n",
      "[CV 3/5] END criterion=log_loss, max_depth=5, max_features=sqrt, splitter=random;, score=nan total time=   0.0s\n",
      "[CV 4/5] END criterion=log_loss, max_depth=5, max_features=sqrt, splitter=random;, score=nan total time=   0.0s\n",
      "[CV 5/5] END criterion=log_loss, max_depth=5, max_features=sqrt, splitter=random;, score=nan total time=   0.0s\n",
      "[CV 1/5] END criterion=log_loss, max_depth=5, max_features=log2, splitter=best;, score=nan total time=   0.0s\n",
      "[CV 2/5] END criterion=log_loss, max_depth=5, max_features=log2, splitter=best;, score=nan total time=   0.0s\n",
      "[CV 3/5] END criterion=log_loss, max_depth=5, max_features=log2, splitter=best;, score=nan total time=   0.0s\n",
      "[CV 4/5] END criterion=log_loss, max_depth=5, max_features=log2, splitter=best;, score=nan total time=   0.0s\n",
      "[CV 5/5] END criterion=log_loss, max_depth=5, max_features=log2, splitter=best;, score=nan total time=   0.0s\n",
      "[CV 1/5] END criterion=log_loss, max_depth=5, max_features=log2, splitter=random;, score=nan total time=   0.0s\n",
      "[CV 2/5] END criterion=log_loss, max_depth=5, max_features=log2, splitter=random;, score=nan total time=   0.0s\n",
      "[CV 3/5] END criterion=log_loss, max_depth=5, max_features=log2, splitter=random;, score=nan total time=   0.0s\n",
      "[CV 4/5] END criterion=log_loss, max_depth=5, max_features=log2, splitter=random;, score=nan total time=   0.0s\n",
      "[CV 5/5] END criterion=log_loss, max_depth=5, max_features=log2, splitter=random;, score=nan total time=   0.0s\n"
     ]
    },
    {
     "data": {
      "text/plain": [
       "GridSearchCV(cv=5, estimator=DecisionTreeClassifier(),\n",
       "             param_grid={'criterion': ['gini', 'entropy', 'log_loss'],\n",
       "                         'max_depth': [1, 2, 3, 4, 5],\n",
       "                         'max_features': ['auto', 'sqrt', 'log2'],\n",
       "                         'splitter': ['best', 'random']},\n",
       "             scoring='accuracy', verbose=3)"
      ]
     },
     "execution_count": 28,
     "metadata": {},
     "output_type": "execute_result"
    }
   ],
   "source": [
    "clf = GridSearchCV(classifier,param_grid=parameter,cv=5,scoring='accuracy',verbose = 3)\n",
    "clf.fit(X_train,y_train)"
   ]
  },
  {
   "cell_type": "code",
   "execution_count": 29,
   "id": "6c97265c-0c54-4871-a823-eefa74260df2",
   "metadata": {},
   "outputs": [
    {
     "data": {
      "text/plain": [
       "{'criterion': 'entropy',\n",
       " 'max_depth': 5,\n",
       " 'max_features': 'log2',\n",
       " 'splitter': 'best'}"
      ]
     },
     "execution_count": 29,
     "metadata": {},
     "output_type": "execute_result"
    }
   ],
   "source": [
    "clf.best_params_"
   ]
  },
  {
   "cell_type": "code",
   "execution_count": 31,
   "id": "bd82277f-f26b-4045-96e5-38d5e5ee7512",
   "metadata": {},
   "outputs": [],
   "source": [
    "classifier= DecisionTreeClassifier(criterion= 'entropy',\n",
    " max_depth= 5,\n",
    " max_features = 'log2',\n",
    " splitter = 'best')"
   ]
  },
  {
   "cell_type": "code",
   "execution_count": 44,
   "id": "5db8e151-a575-45b3-ab5d-8da52b0e2fc5",
   "metadata": {},
   "outputs": [
    {
     "data": {
      "text/plain": [
       "DecisionTreeClassifier(criterion='entropy', max_depth=5, max_features='log2')"
      ]
     },
     "execution_count": 44,
     "metadata": {},
     "output_type": "execute_result"
    }
   ],
   "source": [
    "classifier.fit(X_train_scaled,y_train)"
   ]
  },
  {
   "cell_type": "code",
   "execution_count": 53,
   "id": "7e7e3a86-8c66-4878-bcba-a434d1a1359e",
   "metadata": {},
   "outputs": [],
   "source": [
    "y_pred = classifier.predict(X_test_scaled)"
   ]
  },
  {
   "cell_type": "code",
   "execution_count": 55,
   "id": "3993c8cc-a3f2-4772-a517-7891e0004902",
   "metadata": {},
   "outputs": [
    {
     "name": "stdout",
     "output_type": "stream",
     "text": [
      "[[105  23]\n",
      " [ 25  39]]\n",
      "              precision    recall  f1-score   support\n",
      "\n",
      "           0       0.81      0.82      0.81       128\n",
      "           1       0.63      0.61      0.62        64\n",
      "\n",
      "    accuracy                           0.75       192\n",
      "   macro avg       0.72      0.71      0.72       192\n",
      "weighted avg       0.75      0.75      0.75       192\n",
      "\n",
      "0.75\n"
     ]
    }
   ],
   "source": [
    "from sklearn.metrics import classification_report, accuracy_score, confusion_matrix, accuracy_score\n",
    "print(confusion_matrix(y_pred,y_test))\n",
    "print(classification_report(y_pred,y_test))\n",
    "print(accuracy_score(y_pred,y_test))"
   ]
  },
  {
   "cell_type": "code",
   "execution_count": 56,
   "id": "0ed2fcad-1996-41dc-b245-30bad6364d76",
   "metadata": {},
   "outputs": [],
   "source": [
    "## Suppoet Vector Classifier"
   ]
  },
  {
   "cell_type": "code",
   "execution_count": 58,
   "id": "1dad42e8-9057-4261-8bc8-dc868966b43a",
   "metadata": {},
   "outputs": [],
   "source": [
    "# Defining parameter range\n",
    "param_grid = {'C' :[0.1,1,10],\n",
    "              'gamma': [1,0.1,0.01,0.001,0.0001],\n",
    "              'kernel':['linear','rbf','polynomial']\n",
    "}"
   ]
  },
  {
   "cell_type": "code",
   "execution_count": 60,
   "id": "dfe6c891-7861-48bf-9b15-0943bc8d3490",
   "metadata": {},
   "outputs": [
    {
     "name": "stdout",
     "output_type": "stream",
     "text": [
      "Fitting 3 folds for each of 45 candidates, totalling 135 fits\n",
      "[CV 1/3] END .....C=0.1, gamma=1, kernel=linear;, score=0.760 total time=   0.4s\n",
      "[CV 2/3] END .....C=0.1, gamma=1, kernel=linear;, score=0.771 total time=   0.2s\n",
      "[CV 3/3] END .....C=0.1, gamma=1, kernel=linear;, score=0.750 total time=   0.0s\n",
      "[CV 1/3] END ........C=0.1, gamma=1, kernel=rbf;, score=0.646 total time=   0.0s\n",
      "[CV 2/3] END ........C=0.1, gamma=1, kernel=rbf;, score=0.641 total time=   0.0s\n",
      "[CV 3/3] END ........C=0.1, gamma=1, kernel=rbf;, score=0.641 total time=   0.0s\n",
      "[CV 1/3] END ...C=0.1, gamma=1, kernel=polynomial;, score=nan total time=   0.0s\n",
      "[CV 2/3] END ...C=0.1, gamma=1, kernel=polynomial;, score=nan total time=   0.0s\n",
      "[CV 3/3] END ...C=0.1, gamma=1, kernel=polynomial;, score=nan total time=   0.0s\n",
      "[CV 1/3] END ...C=0.1, gamma=0.1, kernel=linear;, score=0.760 total time=   0.2s\n",
      "[CV 2/3] END ...C=0.1, gamma=0.1, kernel=linear;, score=0.771 total time=   0.2s\n",
      "[CV 3/3] END ...C=0.1, gamma=0.1, kernel=linear;, score=0.750 total time=   0.0s\n",
      "[CV 1/3] END ......C=0.1, gamma=0.1, kernel=rbf;, score=0.646 total time=   0.0s\n",
      "[CV 2/3] END ......C=0.1, gamma=0.1, kernel=rbf;, score=0.641 total time=   0.0s\n",
      "[CV 3/3] END ......C=0.1, gamma=0.1, kernel=rbf;, score=0.641 total time=   0.0s\n",
      "[CV 1/3] END .C=0.1, gamma=0.1, kernel=polynomial;, score=nan total time=   0.0s\n",
      "[CV 2/3] END .C=0.1, gamma=0.1, kernel=polynomial;, score=nan total time=   0.0s\n",
      "[CV 3/3] END .C=0.1, gamma=0.1, kernel=polynomial;, score=nan total time=   0.0s\n",
      "[CV 1/3] END ..C=0.1, gamma=0.01, kernel=linear;, score=0.760 total time=   0.2s\n",
      "[CV 2/3] END ..C=0.1, gamma=0.01, kernel=linear;, score=0.771 total time=   0.1s\n",
      "[CV 3/3] END ..C=0.1, gamma=0.01, kernel=linear;, score=0.750 total time=   0.0s\n",
      "[CV 1/3] END .....C=0.1, gamma=0.01, kernel=rbf;, score=0.646 total time=   0.0s\n",
      "[CV 2/3] END .....C=0.1, gamma=0.01, kernel=rbf;, score=0.641 total time=   0.0s\n",
      "[CV 3/3] END .....C=0.1, gamma=0.01, kernel=rbf;, score=0.641 total time=   0.0s\n",
      "[CV 1/3] END C=0.1, gamma=0.01, kernel=polynomial;, score=nan total time=   0.0s\n",
      "[CV 2/3] END C=0.1, gamma=0.01, kernel=polynomial;, score=nan total time=   0.0s\n",
      "[CV 3/3] END C=0.1, gamma=0.01, kernel=polynomial;, score=nan total time=   0.0s\n",
      "[CV 1/3] END .C=0.1, gamma=0.001, kernel=linear;, score=0.760 total time=   0.3s\n",
      "[CV 2/3] END .C=0.1, gamma=0.001, kernel=linear;, score=0.771 total time=   0.2s\n",
      "[CV 3/3] END .C=0.1, gamma=0.001, kernel=linear;, score=0.750 total time=   0.0s\n",
      "[CV 1/3] END ....C=0.1, gamma=0.001, kernel=rbf;, score=0.667 total time=   0.0s\n",
      "[CV 2/3] END ....C=0.1, gamma=0.001, kernel=rbf;, score=0.677 total time=   0.0s\n",
      "[CV 3/3] END ....C=0.1, gamma=0.001, kernel=rbf;, score=0.672 total time=   0.0s\n",
      "[CV 1/3] END C=0.1, gamma=0.001, kernel=polynomial;, score=nan total time=   0.0s\n",
      "[CV 2/3] END C=0.1, gamma=0.001, kernel=polynomial;, score=nan total time=   0.0s\n",
      "[CV 3/3] END C=0.1, gamma=0.001, kernel=polynomial;, score=nan total time=   0.0s\n",
      "[CV 1/3] END C=0.1, gamma=0.0001, kernel=linear;, score=0.760 total time=   0.2s\n",
      "[CV 2/3] END C=0.1, gamma=0.0001, kernel=linear;, score=0.771 total time=   0.1s\n",
      "[CV 3/3] END C=0.1, gamma=0.0001, kernel=linear;, score=0.750 total time=   0.0s\n",
      "[CV 1/3] END ...C=0.1, gamma=0.0001, kernel=rbf;, score=0.698 total time=   0.0s\n",
      "[CV 2/3] END ...C=0.1, gamma=0.0001, kernel=rbf;, score=0.682 total time=   0.0s\n",
      "[CV 3/3] END ...C=0.1, gamma=0.0001, kernel=rbf;, score=0.714 total time=   0.0s\n",
      "[CV 1/3] END C=0.1, gamma=0.0001, kernel=polynomial;, score=nan total time=   0.0s\n",
      "[CV 2/3] END C=0.1, gamma=0.0001, kernel=polynomial;, score=nan total time=   0.0s\n",
      "[CV 3/3] END C=0.1, gamma=0.0001, kernel=polynomial;, score=nan total time=   0.0s\n",
      "[CV 1/3] END .......C=1, gamma=1, kernel=linear;, score=0.776 total time=   1.8s\n",
      "[CV 2/3] END .......C=1, gamma=1, kernel=linear;, score=0.771 total time=   0.9s\n",
      "[CV 3/3] END .......C=1, gamma=1, kernel=linear;, score=0.740 total time=   0.6s\n",
      "[CV 1/3] END ..........C=1, gamma=1, kernel=rbf;, score=0.646 total time=   0.0s\n",
      "[CV 2/3] END ..........C=1, gamma=1, kernel=rbf;, score=0.641 total time=   0.0s\n",
      "[CV 3/3] END ..........C=1, gamma=1, kernel=rbf;, score=0.641 total time=   0.0s\n",
      "[CV 1/3] END .....C=1, gamma=1, kernel=polynomial;, score=nan total time=   0.0s\n",
      "[CV 2/3] END .....C=1, gamma=1, kernel=polynomial;, score=nan total time=   0.0s\n",
      "[CV 3/3] END .....C=1, gamma=1, kernel=polynomial;, score=nan total time=   0.0s\n",
      "[CV 1/3] END .....C=1, gamma=0.1, kernel=linear;, score=0.776 total time=   1.8s\n",
      "[CV 2/3] END .....C=1, gamma=0.1, kernel=linear;, score=0.771 total time=   1.7s\n",
      "[CV 3/3] END .....C=1, gamma=0.1, kernel=linear;, score=0.740 total time=   0.8s\n",
      "[CV 1/3] END ........C=1, gamma=0.1, kernel=rbf;, score=0.646 total time=   0.0s\n",
      "[CV 2/3] END ........C=1, gamma=0.1, kernel=rbf;, score=0.641 total time=   0.0s\n",
      "[CV 3/3] END ........C=1, gamma=0.1, kernel=rbf;, score=0.641 total time=   0.0s\n",
      "[CV 1/3] END ...C=1, gamma=0.1, kernel=polynomial;, score=nan total time=   0.0s\n",
      "[CV 2/3] END ...C=1, gamma=0.1, kernel=polynomial;, score=nan total time=   0.0s\n",
      "[CV 3/3] END ...C=1, gamma=0.1, kernel=polynomial;, score=nan total time=   0.0s\n",
      "[CV 1/3] END ....C=1, gamma=0.01, kernel=linear;, score=0.776 total time=   2.1s\n",
      "[CV 2/3] END ....C=1, gamma=0.01, kernel=linear;, score=0.771 total time=   1.7s\n",
      "[CV 3/3] END ....C=1, gamma=0.01, kernel=linear;, score=0.740 total time=   0.8s\n",
      "[CV 1/3] END .......C=1, gamma=0.01, kernel=rbf;, score=0.656 total time=   0.0s\n",
      "[CV 2/3] END .......C=1, gamma=0.01, kernel=rbf;, score=0.667 total time=   0.0s\n",
      "[CV 3/3] END .......C=1, gamma=0.01, kernel=rbf;, score=0.656 total time=   0.0s\n",
      "[CV 1/3] END ..C=1, gamma=0.01, kernel=polynomial;, score=nan total time=   0.0s\n",
      "[CV 2/3] END ..C=1, gamma=0.01, kernel=polynomial;, score=nan total time=   0.0s\n",
      "[CV 3/3] END ..C=1, gamma=0.01, kernel=polynomial;, score=nan total time=   0.0s\n",
      "[CV 1/3] END ...C=1, gamma=0.001, kernel=linear;, score=0.776 total time=   2.1s\n",
      "[CV 2/3] END ...C=1, gamma=0.001, kernel=linear;, score=0.771 total time=   1.4s\n",
      "[CV 3/3] END ...C=1, gamma=0.001, kernel=linear;, score=0.740 total time=   0.9s\n",
      "[CV 1/3] END ......C=1, gamma=0.001, kernel=rbf;, score=0.719 total time=   0.0s\n",
      "[CV 2/3] END ......C=1, gamma=0.001, kernel=rbf;, score=0.724 total time=   0.0s\n",
      "[CV 3/3] END ......C=1, gamma=0.001, kernel=rbf;, score=0.724 total time=   0.0s\n",
      "[CV 1/3] END .C=1, gamma=0.001, kernel=polynomial;, score=nan total time=   0.0s\n",
      "[CV 2/3] END .C=1, gamma=0.001, kernel=polynomial;, score=nan total time=   0.0s\n",
      "[CV 3/3] END .C=1, gamma=0.001, kernel=polynomial;, score=nan total time=   0.0s\n",
      "[CV 1/3] END ..C=1, gamma=0.0001, kernel=linear;, score=0.776 total time=   2.2s\n",
      "[CV 2/3] END ..C=1, gamma=0.0001, kernel=linear;, score=0.771 total time=   1.4s\n",
      "[CV 3/3] END ..C=1, gamma=0.0001, kernel=linear;, score=0.740 total time=   0.8s\n",
      "[CV 1/3] END .....C=1, gamma=0.0001, kernel=rbf;, score=0.729 total time=   0.0s\n",
      "[CV 2/3] END .....C=1, gamma=0.0001, kernel=rbf;, score=0.766 total time=   0.0s\n",
      "[CV 3/3] END .....C=1, gamma=0.0001, kernel=rbf;, score=0.740 total time=   0.0s\n",
      "[CV 1/3] END C=1, gamma=0.0001, kernel=polynomial;, score=nan total time=   0.0s\n",
      "[CV 2/3] END C=1, gamma=0.0001, kernel=polynomial;, score=nan total time=   0.0s\n",
      "[CV 3/3] END C=1, gamma=0.0001, kernel=polynomial;, score=nan total time=   0.0s\n",
      "[CV 1/3] END ......C=10, gamma=1, kernel=linear;, score=0.771 total time=  19.0s\n",
      "[CV 2/3] END ......C=10, gamma=1, kernel=linear;, score=0.776 total time=  14.7s\n",
      "[CV 3/3] END ......C=10, gamma=1, kernel=linear;, score=0.745 total time=  13.2s\n",
      "[CV 1/3] END .........C=10, gamma=1, kernel=rbf;, score=0.646 total time=   0.0s\n",
      "[CV 2/3] END .........C=10, gamma=1, kernel=rbf;, score=0.641 total time=   0.0s\n",
      "[CV 3/3] END .........C=10, gamma=1, kernel=rbf;, score=0.641 total time=   0.0s\n",
      "[CV 1/3] END ....C=10, gamma=1, kernel=polynomial;, score=nan total time=   0.0s\n",
      "[CV 2/3] END ....C=10, gamma=1, kernel=polynomial;, score=nan total time=   0.0s\n",
      "[CV 3/3] END ....C=10, gamma=1, kernel=polynomial;, score=nan total time=   0.0s\n",
      "[CV 1/3] END ....C=10, gamma=0.1, kernel=linear;, score=0.771 total time=  18.1s\n",
      "[CV 2/3] END ....C=10, gamma=0.1, kernel=linear;, score=0.776 total time=  14.2s\n",
      "[CV 3/3] END ....C=10, gamma=0.1, kernel=linear;, score=0.745 total time=  12.6s\n",
      "[CV 1/3] END .......C=10, gamma=0.1, kernel=rbf;, score=0.646 total time=   0.0s\n",
      "[CV 2/3] END .......C=10, gamma=0.1, kernel=rbf;, score=0.641 total time=   0.0s\n",
      "[CV 3/3] END .......C=10, gamma=0.1, kernel=rbf;, score=0.641 total time=   0.0s\n",
      "[CV 1/3] END ..C=10, gamma=0.1, kernel=polynomial;, score=nan total time=   0.0s\n",
      "[CV 2/3] END ..C=10, gamma=0.1, kernel=polynomial;, score=nan total time=   0.0s\n",
      "[CV 3/3] END ..C=10, gamma=0.1, kernel=polynomial;, score=nan total time=   0.0s\n",
      "[CV 1/3] END ...C=10, gamma=0.01, kernel=linear;, score=0.771 total time=  19.0s\n",
      "[CV 2/3] END ...C=10, gamma=0.01, kernel=linear;, score=0.776 total time=  14.0s\n",
      "[CV 3/3] END ...C=10, gamma=0.01, kernel=linear;, score=0.745 total time=  13.1s\n",
      "[CV 1/3] END ......C=10, gamma=0.01, kernel=rbf;, score=0.656 total time=   0.0s\n",
      "[CV 2/3] END ......C=10, gamma=0.01, kernel=rbf;, score=0.635 total time=   0.0s\n",
      "[CV 3/3] END ......C=10, gamma=0.01, kernel=rbf;, score=0.641 total time=   0.0s\n",
      "[CV 1/3] END .C=10, gamma=0.01, kernel=polynomial;, score=nan total time=   0.0s\n",
      "[CV 2/3] END .C=10, gamma=0.01, kernel=polynomial;, score=nan total time=   0.0s\n",
      "[CV 3/3] END .C=10, gamma=0.01, kernel=polynomial;, score=nan total time=   0.0s\n",
      "[CV 1/3] END ..C=10, gamma=0.001, kernel=linear;, score=0.771 total time=  20.6s\n",
      "[CV 2/3] END ..C=10, gamma=0.001, kernel=linear;, score=0.776 total time=  14.3s\n",
      "[CV 3/3] END ..C=10, gamma=0.001, kernel=linear;, score=0.745 total time=  12.8s\n",
      "[CV 1/3] END .....C=10, gamma=0.001, kernel=rbf;, score=0.682 total time=   0.0s\n",
      "[CV 2/3] END .....C=10, gamma=0.001, kernel=rbf;, score=0.677 total time=   0.0s\n",
      "[CV 3/3] END .....C=10, gamma=0.001, kernel=rbf;, score=0.688 total time=   0.0s\n",
      "[CV 1/3] END C=10, gamma=0.001, kernel=polynomial;, score=nan total time=   0.0s\n",
      "[CV 2/3] END C=10, gamma=0.001, kernel=polynomial;, score=nan total time=   0.0s\n",
      "[CV 3/3] END C=10, gamma=0.001, kernel=polynomial;, score=nan total time=   0.0s\n",
      "[CV 1/3] END .C=10, gamma=0.0001, kernel=linear;, score=0.771 total time=  17.9s\n",
      "[CV 2/3] END .C=10, gamma=0.0001, kernel=linear;, score=0.776 total time=  14.0s\n",
      "[CV 3/3] END .C=10, gamma=0.0001, kernel=linear;, score=0.745 total time=  12.8s\n",
      "[CV 1/3] END ....C=10, gamma=0.0001, kernel=rbf;, score=0.740 total time=   0.0s\n",
      "[CV 2/3] END ....C=10, gamma=0.0001, kernel=rbf;, score=0.755 total time=   0.0s\n",
      "[CV 3/3] END ....C=10, gamma=0.0001, kernel=rbf;, score=0.724 total time=   0.0s\n",
      "[CV 1/3] END C=10, gamma=0.0001, kernel=polynomial;, score=nan total time=   0.0s\n",
      "[CV 2/3] END C=10, gamma=0.0001, kernel=polynomial;, score=nan total time=   0.0s\n",
      "[CV 3/3] END C=10, gamma=0.0001, kernel=polynomial;, score=nan total time=   0.0s\n"
     ]
    },
    {
     "data": {
      "text/plain": [
       "GridSearchCV(cv=3, estimator=SVC(),\n",
       "             param_grid={'C': [0.1, 1, 10],\n",
       "                         'gamma': [1, 0.1, 0.01, 0.001, 0.0001],\n",
       "                         'kernel': ['linear', 'rbf', 'polynomial']},\n",
       "             scoring='accuracy', verbose=3)"
      ]
     },
     "execution_count": 60,
     "metadata": {},
     "output_type": "execute_result"
    }
   ],
   "source": [
    "from sklearn.svm import SVC\n",
    "grid = GridSearchCV(SVC(),param_grid=param_grid,refit=True,cv=3,verbose=3,scoring='accuracy')\n",
    "grid.fit(X_train,y_train)"
   ]
  },
  {
   "cell_type": "code",
   "execution_count": 61,
   "id": "17ffe61c-e19f-4a55-8812-f31e0ab23e26",
   "metadata": {},
   "outputs": [
    {
     "data": {
      "text/plain": [
       "{'C': 10, 'gamma': 1, 'kernel': 'linear'}"
      ]
     },
     "execution_count": 61,
     "metadata": {},
     "output_type": "execute_result"
    }
   ],
   "source": [
    "grid.best_params_"
   ]
  },
  {
   "cell_type": "code",
   "execution_count": 62,
   "id": "61a32618-8fe1-4f32-ae40-264cf38d83f3",
   "metadata": {},
   "outputs": [
    {
     "data": {
      "text/plain": [
       "SVC(C=10, gamma=1, kernel='linear')"
      ]
     },
     "execution_count": 62,
     "metadata": {},
     "output_type": "execute_result"
    }
   ],
   "source": [
    "svc_clf = SVC(C= 10, gamma= 1, kernel= 'linear')\n",
    "svc_clf.fit(X_train,y_train)"
   ]
  },
  {
   "cell_type": "code",
   "execution_count": 64,
   "id": "61ad8e2e-48eb-4ea6-8825-91fb353be6b2",
   "metadata": {},
   "outputs": [],
   "source": [
    "y_pred = svc_clf.predict(X_test)"
   ]
  },
  {
   "cell_type": "code",
   "execution_count": 65,
   "id": "b2abd16f-76ea-48ed-9485-8cd0ad716c22",
   "metadata": {},
   "outputs": [
    {
     "name": "stdout",
     "output_type": "stream",
     "text": [
      "[[117  26]\n",
      " [ 13  36]]\n",
      "              precision    recall  f1-score   support\n",
      "\n",
      "           0       0.90      0.82      0.86       143\n",
      "           1       0.58      0.73      0.65        49\n",
      "\n",
      "    accuracy                           0.80       192\n",
      "   macro avg       0.74      0.78      0.75       192\n",
      "weighted avg       0.82      0.80      0.80       192\n",
      "\n",
      "0.796875\n"
     ]
    }
   ],
   "source": [
    "print(confusion_matrix(y_pred,y_test))\n",
    "print(classification_report(y_pred,y_test))\n",
    "print(accuracy_score(y_pred,y_test))"
   ]
  },
  {
   "cell_type": "code",
   "execution_count": 66,
   "id": "46ecc1eb-862a-4dab-9cf5-ecd9b59adbc2",
   "metadata": {},
   "outputs": [],
   "source": [
    "import pickle\n",
    "file = open(\"Diabetese_prediction_azure_model\",'wb')\n",
    "pickle.dump(svc_clf,file)\n",
    "file.close()"
   ]
  },
  {
   "cell_type": "code",
   "execution_count": 67,
   "id": "11e176a2-de0e-40b4-9429-65c412e9261f",
   "metadata": {},
   "outputs": [],
   "source": [
    "from sklearn.linear_model import LogisticRegression"
   ]
  },
  {
   "cell_type": "code",
   "execution_count": 68,
   "id": "d0dee311-dd17-40af-952a-697c82c698e5",
   "metadata": {},
   "outputs": [],
   "source": [
    "LR_clf = LogisticRegression()"
   ]
  },
  {
   "cell_type": "code",
   "execution_count": 69,
   "id": "1639a771-66a9-474e-8520-d5da0f63f75f",
   "metadata": {},
   "outputs": [
    {
     "data": {
      "text/plain": [
       "LogisticRegression()"
      ]
     },
     "execution_count": 69,
     "metadata": {},
     "output_type": "execute_result"
    }
   ],
   "source": [
    "LR_clf.fit(X_train,y_train)"
   ]
  },
  {
   "cell_type": "code",
   "execution_count": 70,
   "id": "c05f991a-348c-410a-964f-9d94160eef8c",
   "metadata": {},
   "outputs": [],
   "source": [
    "y_pred = LR_clf.predict(X_test)"
   ]
  },
  {
   "cell_type": "code",
   "execution_count": 71,
   "id": "53c5943d-db59-4e6a-af7a-3918e4aaf894",
   "metadata": {},
   "outputs": [
    {
     "name": "stdout",
     "output_type": "stream",
     "text": [
      "[[118  23]\n",
      " [ 12  39]]\n",
      "              precision    recall  f1-score   support\n",
      "\n",
      "           0       0.91      0.84      0.87       141\n",
      "           1       0.63      0.76      0.69        51\n",
      "\n",
      "    accuracy                           0.82       192\n",
      "   macro avg       0.77      0.80      0.78       192\n",
      "weighted avg       0.83      0.82      0.82       192\n",
      "\n",
      "0.8177083333333334\n"
     ]
    }
   ],
   "source": [
    "print(confusion_matrix(y_pred,y_test))\n",
    "print(classification_report(y_pred,y_test))\n",
    "print(accuracy_score(y_pred,y_test))"
   ]
  },
  {
   "cell_type": "code",
   "execution_count": 72,
   "id": "52819e80-6b47-4c46-879a-a064fb9bf019",
   "metadata": {},
   "outputs": [],
   "source": [
    "import pickle\n",
    "file = open(\"Diabetese_prediction_azure_model\",'wb')\n",
    "pickle.dump(LR_clf,file)\n",
    "file.close()"
   ]
  },
  {
   "cell_type": "code",
   "execution_count": null,
   "id": "079cc2fb-d70f-4164-80f4-cc51885f6eb3",
   "metadata": {},
   "outputs": [],
   "source": []
  }
 ],
 "metadata": {
  "kernelspec": {
   "display_name": "Python 3.8.10 64-bit",
   "language": "python",
   "name": "python3"
  },
  "language_info": {
   "codemirror_mode": {
    "name": "ipython",
    "version": 3
   },
   "file_extension": ".py",
   "mimetype": "text/x-python",
   "name": "python",
   "nbconvert_exporter": "python",
   "pygments_lexer": "ipython3",
   "version": "3.8.10"
  },
  "vscode": {
   "interpreter": {
    "hash": "e7370f93d1d0cde622a1f8e1c04877d8463912d04d973331ad4851f04de6915a"
   }
  }
 },
 "nbformat": 4,
 "nbformat_minor": 5
}
